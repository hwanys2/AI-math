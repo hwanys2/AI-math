{
  "nbformat": 4,
  "nbformat_minor": 0,
  "metadata": {
    "colab": {
      "name": "4.k-means 군집화.ipynb",
      "provenance": [],
      "collapsed_sections": [],
      "include_colab_link": true
    },
    "kernelspec": {
      "name": "python3",
      "display_name": "Python 3"
    },
    "language_info": {
      "name": "python"
    },
    "accelerator": "GPU"
  },
  "cells": [
    {
      "cell_type": "markdown",
      "metadata": {
        "id": "view-in-github",
        "colab_type": "text"
      },
      "source": [
        "<a href=\"https://colab.research.google.com/github/hwanys2/AI-math/blob/main/5.%ED%9A%8C%EA%B7%80%EC%99%80%EB%B6%84%EB%A5%98/5_2.k_means_%EA%B5%B0%EC%A7%91%ED%99%94.ipynb\" target=\"_parent\"><img src=\"https://colab.research.google.com/assets/colab-badge.svg\" alt=\"Open In Colab\"/></a>"
      ]
    },
    {
      "cell_type": "markdown",
      "metadata": {
        "id": "W_fZIrs9mOzf"
      },
      "source": [
        "# 빅데이터 분석\n",
        "[KAGGLE](https://www.kaggle.com) 데이터\n",
        "\n",
        "내용출처\n",
        "[수학과 함께하는 AI기초](http://www.yes24.com/Product/Goods/92450319)"
      ]
    },
    {
      "cell_type": "code",
      "metadata": {
        "id": "kaO2oh6nsAG0"
      },
      "source": [
        "import pandas as pd"
      ],
      "execution_count": 1,
      "outputs": []
    },
    {
      "cell_type": "code",
      "metadata": {
        "id": "fmc7PsZXbWKu"
      },
      "source": [
        "data_url= 'https://raw.githubusercontent.com/hwanys2/data/main/players_21.csv'\n",
        "fifa2021 = pd.read_csv(data_url)\n",
        "fifa2021"
      ],
      "execution_count": null,
      "outputs": []
    },
    {
      "cell_type": "code",
      "metadata": {
        "id": "ipq3tZcptdPn"
      },
      "source": [
        "# 우리나라 선수만 모아보기\n",
        "korea = fifa2021[fifa2021['nationality'] == \"Korea Republic\"]\n",
        "korea"
      ],
      "execution_count": null,
      "outputs": []
    },
    {
      "cell_type": "markdown",
      "metadata": {
        "id": "6S0ZD6dDtYqI"
      },
      "source": [
        "\n",
        "\n",
        "---\n",
        "\n",
        "\n",
        "\n",
        "---\n",
        "\n"
      ]
    },
    {
      "cell_type": "markdown",
      "metadata": {
        "id": "pXhcYtEVtA6f"
      },
      "source": [
        "# 과제\n",
        "## 나이가 35살 보다 많은 선수들만 모아보세요\n",
        "upper_age_35 = 로 시작하세요"
      ]
    },
    {
      "cell_type": "code",
      "metadata": {
        "id": "vTjfHyFRtWMT"
      },
      "source": [
        ""
      ],
      "execution_count": null,
      "outputs": []
    },
    {
      "cell_type": "markdown",
      "metadata": {
        "id": "TmLOwYRdtV26"
      },
      "source": [
        "\n",
        "\n",
        "---\n",
        "\n",
        "\n",
        "\n",
        "---\n",
        "\n"
      ]
    },
    {
      "cell_type": "code",
      "metadata": {
        "id": "iTBjc3lTuIij",
        "colab": {
          "base_uri": "https://localhost:8080/",
          "height": 419
        },
        "outputId": "2684bedd-45e3-4fe0-db88-b99bd86583b5"
      },
      "source": [
        "# 우리나라 선수이름과 Value 보기\n",
        "korea_name_value = korea.loc[:,['long_name','value_eur']]       # [행 , 열] 지정  : \n",
        "korea_name_value"
      ],
      "execution_count": null,
      "outputs": [
        {
          "output_type": "execute_result",
          "data": {
            "text/html": [
              "<div>\n",
              "<style scoped>\n",
              "    .dataframe tbody tr th:only-of-type {\n",
              "        vertical-align: middle;\n",
              "    }\n",
              "\n",
              "    .dataframe tbody tr th {\n",
              "        vertical-align: top;\n",
              "    }\n",
              "\n",
              "    .dataframe thead th {\n",
              "        text-align: right;\n",
              "    }\n",
              "</style>\n",
              "<table border=\"1\" class=\"dataframe\">\n",
              "  <thead>\n",
              "    <tr style=\"text-align: right;\">\n",
              "      <th></th>\n",
              "      <th>long_name</th>\n",
              "      <th>value_eur</th>\n",
              "    </tr>\n",
              "  </thead>\n",
              "  <tbody>\n",
              "    <tr>\n",
              "      <th>46</th>\n",
              "      <td>손흥민 孙兴慜</td>\n",
              "      <td>52500000</td>\n",
              "    </tr>\n",
              "    <tr>\n",
              "      <th>943</th>\n",
              "      <td>황희찬 黄喜灿</td>\n",
              "      <td>12000000</td>\n",
              "    </tr>\n",
              "    <tr>\n",
              "      <th>1414</th>\n",
              "      <td>김신욱 金信煜</td>\n",
              "      <td>6000000</td>\n",
              "    </tr>\n",
              "    <tr>\n",
              "      <th>1711</th>\n",
              "      <td>조현우 崔永宇</td>\n",
              "      <td>6000000</td>\n",
              "    </tr>\n",
              "    <tr>\n",
              "      <th>2062</th>\n",
              "      <td>이강인 Kang-In Lee</td>\n",
              "      <td>9000000</td>\n",
              "    </tr>\n",
              "    <tr>\n",
              "      <th>...</th>\n",
              "      <td>...</td>\n",
              "      <td>...</td>\n",
              "    </tr>\n",
              "    <tr>\n",
              "      <th>18849</th>\n",
              "      <td>Han Min Jeong</td>\n",
              "      <td>60000</td>\n",
              "    </tr>\n",
              "    <tr>\n",
              "      <th>18866</th>\n",
              "      <td>Ki Yeol Kim</td>\n",
              "      <td>50000</td>\n",
              "    </tr>\n",
              "    <tr>\n",
              "      <th>18869</th>\n",
              "      <td>Oh Yeon Cha</td>\n",
              "      <td>50000</td>\n",
              "    </tr>\n",
              "    <tr>\n",
              "      <th>18876</th>\n",
              "      <td>Ji Yong Jeong</td>\n",
              "      <td>45000</td>\n",
              "    </tr>\n",
              "    <tr>\n",
              "      <th>18906</th>\n",
              "      <td>Min Woo Seo</td>\n",
              "      <td>50000</td>\n",
              "    </tr>\n",
              "  </tbody>\n",
              "</table>\n",
              "<p>341 rows × 2 columns</p>\n",
              "</div>"
            ],
            "text/plain": [
              "             long_name  value_eur\n",
              "46             손흥민 孙兴慜   52500000\n",
              "943            황희찬 黄喜灿   12000000\n",
              "1414           김신욱 金信煜    6000000\n",
              "1711           조현우 崔永宇    6000000\n",
              "2062   이강인 Kang-In Lee    9000000\n",
              "...                ...        ...\n",
              "18849    Han Min Jeong      60000\n",
              "18866      Ki Yeol Kim      50000\n",
              "18869      Oh Yeon Cha      50000\n",
              "18876    Ji Yong Jeong      45000\n",
              "18906      Min Woo Seo      50000\n",
              "\n",
              "[341 rows x 2 columns]"
            ]
          },
          "metadata": {},
          "execution_count": 26
        }
      ]
    },
    {
      "cell_type": "code",
      "metadata": {
        "id": "CS5afNsmsYq1"
      },
      "source": [
        "#### 우리나라 돈으로 환산하기\n",
        "korea_name_value['몸값(천원)'] = korea_name_value['value_eur'] * 1.342\n",
        "korea_name_value"
      ],
      "execution_count": null,
      "outputs": []
    },
    {
      "cell_type": "markdown",
      "metadata": {
        "id": "6K6jdZXWuP_-"
      },
      "source": [
        "\n",
        "\n",
        "---\n",
        "\n",
        "\n",
        "\n",
        "---\n",
        "\n"
      ]
    },
    {
      "cell_type": "markdown",
      "metadata": {
        "id": "5C3kWCZWuTMZ"
      },
      "source": [
        "# 자료 슬라이싱\n",
        "## 2000번째까지 선수들 중에서 한국선수의 long_name, value_eur 의 데이터를 만드세요.\n",
        "korea_name_value_top 로 데이터의 이름을 정하겠습니다."
      ]
    },
    {
      "cell_type": "code",
      "metadata": {
        "id": "aHysRqhluE3O"
      },
      "source": [
        "korea_name_value_top = korea.loc[:2000,['long_name','value_eur']] \n",
        "korea_name_value_top"
      ],
      "execution_count": null,
      "outputs": []
    },
    {
      "cell_type": "markdown",
      "metadata": {
        "id": "eSZpJVT0uudK"
      },
      "source": [
        "\n",
        "\n",
        "---\n",
        "\n",
        "\n",
        "\n",
        "---\n",
        "\n"
      ]
    },
    {
      "cell_type": "markdown",
      "metadata": {
        "id": "w8wjBEAMvNTn"
      },
      "source": [
        "\n",
        "\n",
        "---\n",
        "\n",
        "\n",
        "\n",
        "---\n",
        "\n"
      ]
    },
    {
      "cell_type": "markdown",
      "metadata": {
        "id": "jqlr0wV3wcmt"
      },
      "source": [
        "# 한국 선수 분석\n",
        "\n",
        "한국선수의 'short_name','shooting','passing','dribbling','defending' 만을 모아서 시각적으로 표현해보겠습니다. <br>\n",
        "dropna()는 빈칸을 제거하는 명령입니다."
      ]
    },
    {
      "cell_type": "code",
      "metadata": {
        "id": "lAE0FFRAwGnx",
        "colab": {
          "base_uri": "https://localhost:8080/",
          "height": 419
        },
        "outputId": "cd96f433-482b-4a04-c855-b2ffd334f7bd"
      },
      "source": [
        "korea_features = korea.loc[:,['short_name','shooting','passing','dribbling','defending']].dropna()\n",
        "korea_features"
      ],
      "execution_count": 4,
      "outputs": [
        {
          "output_type": "execute_result",
          "data": {
            "text/html": [
              "\n",
              "  <div id=\"df-57c732a4-df1d-4b43-8c23-07aa73e26f31\">\n",
              "    <div class=\"colab-df-container\">\n",
              "      <div>\n",
              "<style scoped>\n",
              "    .dataframe tbody tr th:only-of-type {\n",
              "        vertical-align: middle;\n",
              "    }\n",
              "\n",
              "    .dataframe tbody tr th {\n",
              "        vertical-align: top;\n",
              "    }\n",
              "\n",
              "    .dataframe thead th {\n",
              "        text-align: right;\n",
              "    }\n",
              "</style>\n",
              "<table border=\"1\" class=\"dataframe\">\n",
              "  <thead>\n",
              "    <tr style=\"text-align: right;\">\n",
              "      <th></th>\n",
              "      <th>short_name</th>\n",
              "      <th>shooting</th>\n",
              "      <th>passing</th>\n",
              "      <th>dribbling</th>\n",
              "      <th>defending</th>\n",
              "    </tr>\n",
              "  </thead>\n",
              "  <tbody>\n",
              "    <tr>\n",
              "      <th>46</th>\n",
              "      <td>H. Son</td>\n",
              "      <td>86.0</td>\n",
              "      <td>80.0</td>\n",
              "      <td>87.0</td>\n",
              "      <td>43.0</td>\n",
              "    </tr>\n",
              "    <tr>\n",
              "      <th>943</th>\n",
              "      <td>Hwang Hee Chan</td>\n",
              "      <td>75.0</td>\n",
              "      <td>71.0</td>\n",
              "      <td>79.0</td>\n",
              "      <td>28.0</td>\n",
              "    </tr>\n",
              "    <tr>\n",
              "      <th>1414</th>\n",
              "      <td>Kim Shin Wook</td>\n",
              "      <td>76.0</td>\n",
              "      <td>62.0</td>\n",
              "      <td>67.0</td>\n",
              "      <td>41.0</td>\n",
              "    </tr>\n",
              "    <tr>\n",
              "      <th>2062</th>\n",
              "      <td>Kangin Lee</td>\n",
              "      <td>72.0</td>\n",
              "      <td>75.0</td>\n",
              "      <td>79.0</td>\n",
              "      <td>27.0</td>\n",
              "    </tr>\n",
              "    <tr>\n",
              "      <th>2233</th>\n",
              "      <td>Kwon Chang Hoon</td>\n",
              "      <td>70.0</td>\n",
              "      <td>73.0</td>\n",
              "      <td>78.0</td>\n",
              "      <td>51.0</td>\n",
              "    </tr>\n",
              "    <tr>\n",
              "      <th>...</th>\n",
              "      <td>...</td>\n",
              "      <td>...</td>\n",
              "      <td>...</td>\n",
              "      <td>...</td>\n",
              "      <td>...</td>\n",
              "    </tr>\n",
              "    <tr>\n",
              "      <th>18849</th>\n",
              "      <td>Jeong Han Min</td>\n",
              "      <td>49.0</td>\n",
              "      <td>40.0</td>\n",
              "      <td>47.0</td>\n",
              "      <td>27.0</td>\n",
              "    </tr>\n",
              "    <tr>\n",
              "      <th>18866</th>\n",
              "      <td>Kim Ki Yeol</td>\n",
              "      <td>39.0</td>\n",
              "      <td>48.0</td>\n",
              "      <td>55.0</td>\n",
              "      <td>43.0</td>\n",
              "    </tr>\n",
              "    <tr>\n",
              "      <th>18869</th>\n",
              "      <td>Cha Oh Yeon</td>\n",
              "      <td>36.0</td>\n",
              "      <td>49.0</td>\n",
              "      <td>46.0</td>\n",
              "      <td>53.0</td>\n",
              "    </tr>\n",
              "    <tr>\n",
              "      <th>18876</th>\n",
              "      <td>Jeong Ji Yong</td>\n",
              "      <td>49.0</td>\n",
              "      <td>38.0</td>\n",
              "      <td>54.0</td>\n",
              "      <td>23.0</td>\n",
              "    </tr>\n",
              "    <tr>\n",
              "      <th>18906</th>\n",
              "      <td>Seo Min Woo</td>\n",
              "      <td>37.0</td>\n",
              "      <td>49.0</td>\n",
              "      <td>49.0</td>\n",
              "      <td>45.0</td>\n",
              "    </tr>\n",
              "  </tbody>\n",
              "</table>\n",
              "<p>299 rows × 5 columns</p>\n",
              "</div>\n",
              "      <button class=\"colab-df-convert\" onclick=\"convertToInteractive('df-57c732a4-df1d-4b43-8c23-07aa73e26f31')\"\n",
              "              title=\"Convert this dataframe to an interactive table.\"\n",
              "              style=\"display:none;\">\n",
              "        \n",
              "  <svg xmlns=\"http://www.w3.org/2000/svg\" height=\"24px\"viewBox=\"0 0 24 24\"\n",
              "       width=\"24px\">\n",
              "    <path d=\"M0 0h24v24H0V0z\" fill=\"none\"/>\n",
              "    <path d=\"M18.56 5.44l.94 2.06.94-2.06 2.06-.94-2.06-.94-.94-2.06-.94 2.06-2.06.94zm-11 1L8.5 8.5l.94-2.06 2.06-.94-2.06-.94L8.5 2.5l-.94 2.06-2.06.94zm10 10l.94 2.06.94-2.06 2.06-.94-2.06-.94-.94-2.06-.94 2.06-2.06.94z\"/><path d=\"M17.41 7.96l-1.37-1.37c-.4-.4-.92-.59-1.43-.59-.52 0-1.04.2-1.43.59L10.3 9.45l-7.72 7.72c-.78.78-.78 2.05 0 2.83L4 21.41c.39.39.9.59 1.41.59.51 0 1.02-.2 1.41-.59l7.78-7.78 2.81-2.81c.8-.78.8-2.07 0-2.86zM5.41 20L4 18.59l7.72-7.72 1.47 1.35L5.41 20z\"/>\n",
              "  </svg>\n",
              "      </button>\n",
              "      \n",
              "  <style>\n",
              "    .colab-df-container {\n",
              "      display:flex;\n",
              "      flex-wrap:wrap;\n",
              "      gap: 12px;\n",
              "    }\n",
              "\n",
              "    .colab-df-convert {\n",
              "      background-color: #E8F0FE;\n",
              "      border: none;\n",
              "      border-radius: 50%;\n",
              "      cursor: pointer;\n",
              "      display: none;\n",
              "      fill: #1967D2;\n",
              "      height: 32px;\n",
              "      padding: 0 0 0 0;\n",
              "      width: 32px;\n",
              "    }\n",
              "\n",
              "    .colab-df-convert:hover {\n",
              "      background-color: #E2EBFA;\n",
              "      box-shadow: 0px 1px 2px rgba(60, 64, 67, 0.3), 0px 1px 3px 1px rgba(60, 64, 67, 0.15);\n",
              "      fill: #174EA6;\n",
              "    }\n",
              "\n",
              "    [theme=dark] .colab-df-convert {\n",
              "      background-color: #3B4455;\n",
              "      fill: #D2E3FC;\n",
              "    }\n",
              "\n",
              "    [theme=dark] .colab-df-convert:hover {\n",
              "      background-color: #434B5C;\n",
              "      box-shadow: 0px 1px 3px 1px rgba(0, 0, 0, 0.15);\n",
              "      filter: drop-shadow(0px 1px 2px rgba(0, 0, 0, 0.3));\n",
              "      fill: #FFFFFF;\n",
              "    }\n",
              "  </style>\n",
              "\n",
              "      <script>\n",
              "        const buttonEl =\n",
              "          document.querySelector('#df-57c732a4-df1d-4b43-8c23-07aa73e26f31 button.colab-df-convert');\n",
              "        buttonEl.style.display =\n",
              "          google.colab.kernel.accessAllowed ? 'block' : 'none';\n",
              "\n",
              "        async function convertToInteractive(key) {\n",
              "          const element = document.querySelector('#df-57c732a4-df1d-4b43-8c23-07aa73e26f31');\n",
              "          const dataTable =\n",
              "            await google.colab.kernel.invokeFunction('convertToInteractive',\n",
              "                                                     [key], {});\n",
              "          if (!dataTable) return;\n",
              "\n",
              "          const docLinkHtml = 'Like what you see? Visit the ' +\n",
              "            '<a target=\"_blank\" href=https://colab.research.google.com/notebooks/data_table.ipynb>data table notebook</a>'\n",
              "            + ' to learn more about interactive tables.';\n",
              "          element.innerHTML = '';\n",
              "          dataTable['output_type'] = 'display_data';\n",
              "          await google.colab.output.renderOutput(dataTable, element);\n",
              "          const docLink = document.createElement('div');\n",
              "          docLink.innerHTML = docLinkHtml;\n",
              "          element.appendChild(docLink);\n",
              "        }\n",
              "      </script>\n",
              "    </div>\n",
              "  </div>\n",
              "  "
            ],
            "text/plain": [
              "            short_name  shooting  passing  dribbling  defending\n",
              "46              H. Son      86.0     80.0       87.0       43.0\n",
              "943     Hwang Hee Chan      75.0     71.0       79.0       28.0\n",
              "1414     Kim Shin Wook      76.0     62.0       67.0       41.0\n",
              "2062        Kangin Lee      72.0     75.0       79.0       27.0\n",
              "2233   Kwon Chang Hoon      70.0     73.0       78.0       51.0\n",
              "...                ...       ...      ...        ...        ...\n",
              "18849    Jeong Han Min      49.0     40.0       47.0       27.0\n",
              "18866      Kim Ki Yeol      39.0     48.0       55.0       43.0\n",
              "18869      Cha Oh Yeon      36.0     49.0       46.0       53.0\n",
              "18876    Jeong Ji Yong      49.0     38.0       54.0       23.0\n",
              "18906      Seo Min Woo      37.0     49.0       49.0       45.0\n",
              "\n",
              "[299 rows x 5 columns]"
            ]
          },
          "metadata": {},
          "execution_count": 4
        }
      ]
    },
    {
      "cell_type": "markdown",
      "metadata": {
        "id": "NrZc4-LcuVeL"
      },
      "source": [
        "## 슈팅과 패스 능력의 관계를 살펴보기 위해 산점도로 나타냅니다."
      ]
    },
    {
      "cell_type": "code",
      "metadata": {
        "id": "BoE5ikbow0Nz",
        "colab": {
          "base_uri": "https://localhost:8080/",
          "height": 312
        },
        "outputId": "6b3c24d0-bcfd-4d84-c885-2b147cdf0383"
      },
      "source": [
        "import matplotlib.pyplot as plt\n",
        "plt.title(\"shooting & passing\")      # 그래프의 제목 입력 \n",
        "plt.xlabel('shooting')                 # x축 이름 입력 \n",
        "plt.ylabel('passing')               # y축 이름 입력 \n",
        "plt.scatter(korea_features['shooting'],korea_features['passing'])     # 산점도 그리기"
      ],
      "execution_count": 6,
      "outputs": [
        {
          "output_type": "execute_result",
          "data": {
            "text/plain": [
              "<matplotlib.collections.PathCollection at 0x7ffac057d990>"
            ]
          },
          "metadata": {},
          "execution_count": 6
        },
        {
          "output_type": "display_data",
          "data": {
            "image/png": "[encoded data removed]",
            "text/plain": [
              "<Figure size 432x288 with 1 Axes>"
            ]
          },
          "metadata": {
            "needs_background": "light"
          }
        }
      ]
    },
    {
      "cell_type": "markdown",
      "metadata": {
        "id": "Qokroa1queNO"
      },
      "source": [
        "## 아래에 shooting 와 defending의 관계를 그래프로 나타내보세요"
      ]
    },
    {
      "cell_type": "code",
      "metadata": {
        "id": "mXFXddTIxqcd"
      },
      "source": [
        ""
      ],
      "execution_count": null,
      "outputs": []
    },
    {
      "cell_type": "markdown",
      "metadata": {
        "id": "_EhvkkCJveSK"
      },
      "source": [
        "\n",
        "\n",
        "---\n",
        "\n"
      ]
    },
    {
      "cell_type": "markdown",
      "metadata": {
        "id": "iq2EHrAAvzaq"
      },
      "source": [
        "\n",
        "\n",
        "---\n",
        "\n",
        "\n",
        "\n",
        "---\n",
        "\n"
      ]
    },
    {
      "cell_type": "markdown",
      "metadata": {
        "id": "5UeTV7_3zbMz"
      },
      "source": [
        "# 군집화\n",
        "## 슈팅과 패싱 점수를 바탕으로 비슷한 그룹끼리 그룹지어 보도록 하겠습니다.\n",
        "\n",
        "먼저 슈팅, 패싱 정보만 group_korea 에 담겠습니다."
      ]
    },
    {
      "cell_type": "code",
      "metadata": {
        "id": "CGctUAQJtVYU",
        "colab": {
          "base_uri": "https://localhost:8080/",
          "height": 419
        },
        "outputId": "30a8c202-cbff-4afc-f009-3287e1979da2"
      },
      "source": [
        "group_korea = korea.loc[:,['shooting','passing']].dropna()\n",
        "group_korea"
      ],
      "execution_count": 9,
      "outputs": [
        {
          "output_type": "execute_result",
          "data": {
            "text/html": [
              "\n",
              "  <div id=\"df-db541c52-0afa-4eca-8831-67619839d7be\">\n",
              "    <div class=\"colab-df-container\">\n",
              "      <div>\n",
              "<style scoped>\n",
              "    .dataframe tbody tr th:only-of-type {\n",
              "        vertical-align: middle;\n",
              "    }\n",
              "\n",
              "    .dataframe tbody tr th {\n",
              "        vertical-align: top;\n",
              "    }\n",
              "\n",
              "    .dataframe thead th {\n",
              "        text-align: right;\n",
              "    }\n",
              "</style>\n",
              "<table border=\"1\" class=\"dataframe\">\n",
              "  <thead>\n",
              "    <tr style=\"text-align: right;\">\n",
              "      <th></th>\n",
              "      <th>shooting</th>\n",
              "      <th>passing</th>\n",
              "    </tr>\n",
              "  </thead>\n",
              "  <tbody>\n",
              "    <tr>\n",
              "      <th>46</th>\n",
              "      <td>86.0</td>\n",
              "      <td>80.0</td>\n",
              "    </tr>\n",
              "    <tr>\n",
              "      <th>943</th>\n",
              "      <td>75.0</td>\n",
              "      <td>71.0</td>\n",
              "    </tr>\n",
              "    <tr>\n",
              "      <th>1414</th>\n",
              "      <td>76.0</td>\n",
              "      <td>62.0</td>\n",
              "    </tr>\n",
              "    <tr>\n",
              "      <th>2062</th>\n",
              "      <td>72.0</td>\n",
              "      <td>75.0</td>\n",
              "    </tr>\n",
              "    <tr>\n",
              "      <th>2233</th>\n",
              "      <td>70.0</td>\n",
              "      <td>73.0</td>\n",
              "    </tr>\n",
              "    <tr>\n",
              "      <th>...</th>\n",
              "      <td>...</td>\n",
              "      <td>...</td>\n",
              "    </tr>\n",
              "    <tr>\n",
              "      <th>18849</th>\n",
              "      <td>49.0</td>\n",
              "      <td>40.0</td>\n",
              "    </tr>\n",
              "    <tr>\n",
              "      <th>18866</th>\n",
              "      <td>39.0</td>\n",
              "      <td>48.0</td>\n",
              "    </tr>\n",
              "    <tr>\n",
              "      <th>18869</th>\n",
              "      <td>36.0</td>\n",
              "      <td>49.0</td>\n",
              "    </tr>\n",
              "    <tr>\n",
              "      <th>18876</th>\n",
              "      <td>49.0</td>\n",
              "      <td>38.0</td>\n",
              "    </tr>\n",
              "    <tr>\n",
              "      <th>18906</th>\n",
              "      <td>37.0</td>\n",
              "      <td>49.0</td>\n",
              "    </tr>\n",
              "  </tbody>\n",
              "</table>\n",
              "<p>299 rows × 2 columns</p>\n",
              "</div>\n",
              "      <button class=\"colab-df-convert\" onclick=\"convertToInteractive('df-db541c52-0afa-4eca-8831-67619839d7be')\"\n",
              "              title=\"Convert this dataframe to an interactive table.\"\n",
              "              style=\"display:none;\">\n",
              "        \n",
              "  <svg xmlns=\"http://www.w3.org/2000/svg\" height=\"24px\"viewBox=\"0 0 24 24\"\n",
              "       width=\"24px\">\n",
              "    <path d=\"M0 0h24v24H0V0z\" fill=\"none\"/>\n",
              "    <path d=\"M18.56 5.44l.94 2.06.94-2.06 2.06-.94-2.06-.94-.94-2.06-.94 2.06-2.06.94zm-11 1L8.5 8.5l.94-2.06 2.06-.94-2.06-.94L8.5 2.5l-.94 2.06-2.06.94zm10 10l.94 2.06.94-2.06 2.06-.94-2.06-.94-.94-2.06-.94 2.06-2.06.94z\"/><path d=\"M17.41 7.96l-1.37-1.37c-.4-.4-.92-.59-1.43-.59-.52 0-1.04.2-1.43.59L10.3 9.45l-7.72 7.72c-.78.78-.78 2.05 0 2.83L4 21.41c.39.39.9.59 1.41.59.51 0 1.02-.2 1.41-.59l7.78-7.78 2.81-2.81c.8-.78.8-2.07 0-2.86zM5.41 20L4 18.59l7.72-7.72 1.47 1.35L5.41 20z\"/>\n",
              "  </svg>\n",
              "      </button>\n",
              "      \n",
              "  <style>\n",
              "    .colab-df-container {\n",
              "      display:flex;\n",
              "      flex-wrap:wrap;\n",
              "      gap: 12px;\n",
              "    }\n",
              "\n",
              "    .colab-df-convert {\n",
              "      background-color: #E8F0FE;\n",
              "      border: none;\n",
              "      border-radius: 50%;\n",
              "      cursor: pointer;\n",
              "      display: none;\n",
              "      fill: #1967D2;\n",
              "      height: 32px;\n",
              "      padding: 0 0 0 0;\n",
              "      width: 32px;\n",
              "    }\n",
              "\n",
              "    .colab-df-convert:hover {\n",
              "      background-color: #E2EBFA;\n",
              "      box-shadow: 0px 1px 2px rgba(60, 64, 67, 0.3), 0px 1px 3px 1px rgba(60, 64, 67, 0.15);\n",
              "      fill: #174EA6;\n",
              "    }\n",
              "\n",
              "    [theme=dark] .colab-df-convert {\n",
              "      background-color: #3B4455;\n",
              "      fill: #D2E3FC;\n",
              "    }\n",
              "\n",
              "    [theme=dark] .colab-df-convert:hover {\n",
              "      background-color: #434B5C;\n",
              "      box-shadow: 0px 1px 3px 1px rgba(0, 0, 0, 0.15);\n",
              "      filter: drop-shadow(0px 1px 2px rgba(0, 0, 0, 0.3));\n",
              "      fill: #FFFFFF;\n",
              "    }\n",
              "  </style>\n",
              "\n",
              "      <script>\n",
              "        const buttonEl =\n",
              "          document.querySelector('#df-db541c52-0afa-4eca-8831-67619839d7be button.colab-df-convert');\n",
              "        buttonEl.style.display =\n",
              "          google.colab.kernel.accessAllowed ? 'block' : 'none';\n",
              "\n",
              "        async function convertToInteractive(key) {\n",
              "          const element = document.querySelector('#df-db541c52-0afa-4eca-8831-67619839d7be');\n",
              "          const dataTable =\n",
              "            await google.colab.kernel.invokeFunction('convertToInteractive',\n",
              "                                                     [key], {});\n",
              "          if (!dataTable) return;\n",
              "\n",
              "          const docLinkHtml = 'Like what you see? Visit the ' +\n",
              "            '<a target=\"_blank\" href=https://colab.research.google.com/notebooks/data_table.ipynb>data table notebook</a>'\n",
              "            + ' to learn more about interactive tables.';\n",
              "          element.innerHTML = '';\n",
              "          dataTable['output_type'] = 'display_data';\n",
              "          await google.colab.output.renderOutput(dataTable, element);\n",
              "          const docLink = document.createElement('div');\n",
              "          docLink.innerHTML = docLinkHtml;\n",
              "          element.appendChild(docLink);\n",
              "        }\n",
              "      </script>\n",
              "    </div>\n",
              "  </div>\n",
              "  "
            ],
            "text/plain": [
              "       shooting  passing\n",
              "46         86.0     80.0\n",
              "943        75.0     71.0\n",
              "1414       76.0     62.0\n",
              "2062       72.0     75.0\n",
              "2233       70.0     73.0\n",
              "...         ...      ...\n",
              "18849      49.0     40.0\n",
              "18866      39.0     48.0\n",
              "18869      36.0     49.0\n",
              "18876      49.0     38.0\n",
              "18906      37.0     49.0\n",
              "\n",
              "[299 rows x 2 columns]"
            ]
          },
          "metadata": {},
          "execution_count": 9
        }
      ]
    },
    {
      "cell_type": "markdown",
      "metadata": {
        "id": "v3i6h5IU0j_k"
      },
      "source": [
        "# K-means 군집화 방법을 사용하겠습니다.\n",
        "\n",
        "비계층적 군집화 방법으로 전체 데이터를 상대적으로 유사한 K개의 군집으로 구분하는 방법입니다.\n",
        "\n",
        "![이미지](https://www.notion.so/image/https%3A%2F%2Fs3-us-west-2.amazonaws.com%2Fsecure.notion-static.com%2F09e0386f-0205-47ad-ac8d-0a90f55690d7%2FUnknown.png?table=block&id=ae88daf5-72dd-4adb-a76e-8cdeb51e9499&spaceId=0f859e6e-7f7d-4665-851d-3e7244ab307b&width=2000&userId=dfd283da-c918-4fc5-8a30-95ceb1b2371a&cache=v2)\n",
        "\n",
        "K-means 군집화의 과정은 클러스터의 개수를 결정하게 되면 데이터 공간에 K개의 클러스터가 형성되며 각 클러스터의 중심은 해당 클러스터에 포함된 데이터의 평균으로 조정하게 됩니다. 클러스터의 중심이 변하지 않을 때까지 클러스터 중심을 조정하며 군집을 생성합니다.\n",
        "<br>\n",
        "<aside>\n",
        "💡 1. 클러스터 개수 K값 결정하기 <br>\n",
        "2. 데이터 공간에 클러스터 중심 K개 할당하기<br>\n",
        "3. 각 클러스터 중심을 해당 클러스터 데이터의 평균으로 재조정하기<br>\n",
        "4. 클러스터 중심이 변하지 않을 때까지 3.을 반복 시행\n",
        "<br>\n",
        "</aside>\n",
        "\n",
        "K-means 군집화는 빠르고 간단하게 군집화가 가능하다는 강점이 있고 적절하지 못한 K를 설정할 경우 그 결과가 좋지 못할 수 있다는 약점이 있다."
      ]
    },
    {
      "cell_type": "code",
      "metadata": {
        "id": "EIA3mypzx7mh"
      },
      "source": [
        "import numpy as np\n",
        "X = np.array(group_korea)    # 자료를 벡터로 변환"
      ],
      "execution_count": 10,
      "outputs": []
    },
    {
      "cell_type": "code",
      "metadata": {
        "id": "Z_d_DZ2Sz7EW",
        "colab": {
          "base_uri": "https://localhost:8080/"
        },
        "outputId": "94d737e1-9876-4df5-edf0-96e7ab1dbeaf"
      },
      "source": [
        "k = 3                                # 군집화 하려는 개수 즉 3그룹으로 나누려고 함.\n",
        "C_x = np.random.choice(X[:, 0],k)    # 슈팅 점수중 k개 추출\n",
        "C_y = np.random.choice(X[:, 1],k)    # 패싱 점수중 k개 추출\n",
        "C = np.array(list(zip(C_x, C_y)))\n",
        "print(C)"
      ],
      "execution_count": 11,
      "outputs": [
        {
          "output_type": "stream",
          "name": "stdout",
          "text": [
            "[[57. 58.]\n",
            " [51. 62.]\n",
            " [63. 64.]]\n"
          ]
        }
      ]
    },
    {
      "cell_type": "code",
      "metadata": {
        "id": "ejcsF6DQ1JUU",
        "colab": {
          "base_uri": "https://localhost:8080/",
          "height": 312
        },
        "outputId": "f0094f31-36ad-4510-cc3a-408658f5f591"
      },
      "source": [
        "# 그래프로 그리기. 중심은 별로 표시\n",
        "plt.title(\"shooting & passing\")    # 타이틀\n",
        "plt.xlabel('shooting')\n",
        "plt.ylabel('passing')\n",
        "plt.scatter(group_korea['shooting'],group_korea['passing'], marker = '^', c = 'blue', s = 10, label = 'players')\n",
        "plt.scatter(C_x, C_y, marker ='*', s=200, c= 'black', label='centroids')\n",
        "plt.legend(loc = 'best')    # 범례를 좋은위치에"
      ],
      "execution_count": 12,
      "outputs": [
        {
          "output_type": "execute_result",
          "data": {
            "text/plain": [
              "<matplotlib.legend.Legend at 0x7ffaaf141f90>"
            ]
          },
          "metadata": {},
          "execution_count": 12
        },
        {
          "output_type": "display_data",
          "data": {
            "image/png": "[encoded data removed]",
            "text/plain": [
              "<Figure size 432x288 with 1 Axes>"
            ]
          },
          "metadata": {
            "needs_background": "light"
          }
        }
      ]
    },
    {
      "cell_type": "markdown",
      "metadata": {
        "id": "mqxkBl1n3JSb"
      },
      "source": [
        "## 각 표본에 가까운 중심에 할당하기"
      ]
    },
    {
      "cell_type": "code",
      "metadata": {
        "id": "aDxsl6jP2Tuo"
      },
      "source": [
        "# 유클리디안 거리 계산 함수 만들기\n",
        "def Distance(A, B):\n",
        "    return np.sqrt(np.sum(np.power((A-B),2)))"
      ],
      "execution_count": 13,
      "outputs": []
    },
    {
      "cell_type": "code",
      "metadata": {
        "id": "iUsB0QC-3W2u",
        "colab": {
          "base_uri": "https://localhost:8080/"
        },
        "outputId": "a909c269-4f9f-4e82-d7f9-f97a54d26523"
      },
      "source": [
        "C_old = np.zeros(C.shape)       # C 와 같은 모양의 0행렬\n",
        "clusters = np.zeros(len(X))     # 데이터의 개수 만큼 0\n",
        "flag = Distance(C, C_old)       # 새로운 중심과 이전 중심의 거리를 구함. \n",
        "flag"
      ],
      "execution_count": 14,
      "outputs": [
        {
          "output_type": "execute_result",
          "data": {
            "text/plain": [
              "145.3375381654719"
            ]
          },
          "metadata": {},
          "execution_count": 14
        }
      ]
    },
    {
      "cell_type": "markdown",
      "metadata": {
        "id": "cJ9NYUXr4Pmu"
      },
      "source": [
        "## 각 군집의 중심을 새롭게 계산하기"
      ]
    },
    {
      "cell_type": "code",
      "metadata": {
        "id": "ONniK-Gv3cjR",
        "colab": {
          "base_uri": "https://localhost:8080/"
        },
        "outputId": "f71d1c2e-de62-4c2a-eb90-2e3a75202074"
      },
      "source": [
        "from copy import deepcopy\n",
        "\n",
        "distances = []\n",
        "\n",
        "while flag != 0:                         # 새로 구해진 중심과 직전의 중심과 같아질 떄까지 반복하라\n",
        "\n",
        "    for i in range(len(X)):              # 한국선수의 수만큼 반복, 모든 선수를 중심과 가장 가까운 곳을 찾는 시도\n",
        "        for j in range(k):               # 각 선수마다 k개의 중심점 중 거리를 구해서 가장 가까운 곳을 찾는 시도\n",
        "            temp = Distance(X[i], C[j])  # 선수와 k개의 중심점과 거리를 temp에 저장\n",
        "            distances.append(temp)       # [10, 20, 41] 이런식으로 각 중심과의 거리가 담기게 됨. 이때 가장 작은 것이 필요.\n",
        "    \n",
        "        cluster = np.argmin(distances)   # 거리가 가장 작은 것의 인덱스를 cluster로 지정. 즉 위의 [10, 20, 41]이라면 0번째를 cluster에 저장. np.argmin이 최소값의 인덱스출력\n",
        "        clusters[i] = cluster            # 모든 선수들이 어떤 중심점에 가까운지 분류됨.\n",
        "        distances = []                   # 다음 선수의 거리를 측정하기 전에 distance 초기화\n",
        "  \n",
        "    C_old = deepcopy(C)                  # 딥카피는 후속 작업에 영향을 안받아서 사용해야함. \n",
        "\n",
        "    for i in range(k):                   # 새로운 중심점을 분류된 집합의 평균 x,y 좌표로 지정함.\n",
        "        points = [X[j] for j in range(len(X)) if clusters[j]==i]\n",
        "        C[i] = np.mean(points, axis=0)\n",
        "  \n",
        "\n",
        "    flag = Distance(C, C_old)            # 위 과정을 반복하면서 새로운 중심점과 이전의 중심점의 거리를 구함. 이게 0이 될때까지 지속함.\n",
        "print(C)"
      ],
      "execution_count": 15,
      "outputs": [
        {
          "output_type": "stream",
          "name": "stdout",
          "text": [
            "[[49.30327869 54.02459016]\n",
            " [30.63636364 43.66233766]\n",
            " [62.45       63.16      ]]\n"
          ]
        }
      ]
    },
    {
      "cell_type": "code",
      "metadata": {
        "id": "tIlUPcyq3wOF",
        "colab": {
          "base_uri": "https://localhost:8080/",
          "height": 265
        },
        "outputId": "81871480-f81d-4b86-cef9-6af7dce75d2c"
      },
      "source": [
        "plt.scatter(X[clusters == 0, 0], X[clusters == 0, 1], s=50, c='red', marker ='o', edgecolor = 'black', label = 'Middle')\n",
        "plt.scatter(X[clusters == 1, 0], X[clusters == 1, 1], s=50, c='yellow', marker ='x', edgecolor = 'black', label = 'High')\n",
        "plt.scatter(X[clusters == 2, 0], X[clusters == 2, 1], s=50, c='blue', marker ='^', edgecolor = 'black', label = 'Low')\n",
        "\n",
        "plt.scatter(C[:,0], C[:,1], s = 250, marker = '*', c = 'white', edgecolor='black',label='Centroids')\n",
        "plt.legend()\n",
        "plt.grid()"
      ],
      "execution_count": null,
      "outputs": [
        {
          "output_type": "display_data",
          "data": {
            "image/png": "[encoded data removed]",
            "text/plain": [
              "<Figure size 432x288 with 1 Axes>"
            ]
          },
          "metadata": {
            "needs_background": "light"
          }
        }
      ]
    },
    {
      "cell_type": "markdown",
      "metadata": {
        "id": "CTDTLz0LdBf4"
      },
      "source": [
        "# 과제\n",
        "\n",
        "위 코드를 수정하여 4개의 그룹으로 나누어보세요^^"
      ]
    },
    {
      "cell_type": "code",
      "metadata": {
        "id": "VmO2SJcU09c8"
      },
      "source": [
        ""
      ],
      "execution_count": null,
      "outputs": []
    },
    {
      "cell_type": "markdown",
      "metadata": {
        "id": "4DA3wWbI0989"
      },
      "source": [
        "\n",
        "\n",
        "---\n",
        "\n",
        "\n",
        "\n",
        "---\n",
        "\n",
        "\n",
        "\n",
        "---\n",
        "\n",
        "\n",
        "\n",
        "---\n",
        "\n"
      ]
    },
    {
      "cell_type": "code",
      "metadata": {
        "id": "mbeC0jSIdFO-"
      },
      "source": [
        "import pandas as pd \n",
        "from sklearn.cluster import KMeans # model "
      ],
      "execution_count": 16,
      "outputs": []
    },
    {
      "cell_type": "code",
      "metadata": {
        "id": "M6LGgFlesHs-",
        "colab": {
          "base_uri": "https://localhost:8080/"
        },
        "outputId": "cbad88e6-2b88-4b66-f93b-5f0a1d9f0160"
      },
      "source": [
        "model = KMeans(n_clusters=6, random_state=0, algorithm='auto') \n",
        "dataDF = group_korea[['shooting', 'passing']]\n",
        "model.fit(dataDF) "
      ],
      "execution_count": 17,
      "outputs": [
        {
          "output_type": "execute_result",
          "data": {
            "text/plain": [
              "KMeans(n_clusters=6, random_state=0)"
            ]
          },
          "metadata": {},
          "execution_count": 17
        }
      ]
    },
    {
      "cell_type": "code",
      "metadata": {
        "id": "O-qEJDSWvb8N",
        "colab": {
          "base_uri": "https://localhost:8080/",
          "height": 282
        },
        "outputId": "f44bbd0d-29bd-43cd-b1b8-8c6c1794c33f"
      },
      "source": [
        "pred = model.predict(dataDF) \n",
        "centers = model.cluster_centers_ \n",
        "plt.scatter(x=dataDF['shooting'], y=dataDF['passing'], c=pred) \n",
        "plt.scatter(x=centers[:,0], y=centers[:,1], marker='*', s=250, c = 'white', edgecolor='black',)"
      ],
      "execution_count": 18,
      "outputs": [
        {
          "output_type": "execute_result",
          "data": {
            "text/plain": [
              "<matplotlib.collections.PathCollection at 0x7ffaa33f94d0>"
            ]
          },
          "metadata": {},
          "execution_count": 18
        },
        {
          "output_type": "display_data",
          "data": {
            "image/png": "[encoded data removed]",
            "text/plain": [
              "<Figure size 432x288 with 1 Axes>"
            ]
          },
          "metadata": {
            "needs_background": "light"
          }
        }
      ]
    },
    {
      "cell_type": "code",
      "metadata": {
        "id": "mlBfkXl_01x-",
        "colab": {
          "base_uri": "https://localhost:8080/",
          "height": 282
        },
        "outputId": "defb30ca-37b0-4fa0-9465-f7a638cf2396"
      },
      "source": [
        "# pandas와 sklearn이 필요하다. 다음과 같이 불러온다.\n",
        "import pandas as pd \n",
        "from sklearn.cluster import KMeans \n",
        "import matplotlib.pyplot as plt\n",
        "\n",
        "# 원본데이터를 불러온다.\n",
        "data_url= 'https://raw.githubusercontent.com/hwanys2/data/main/players_21.csv'\n",
        "fifa2021 = pd.read_csv(data_url)\n",
        "\n",
        "# 필요한 데이터만 불러온다\n",
        "korea = fifa2021[fifa2021['nationality'] == \"Korea Republic\"]\n",
        "group_korea = korea.loc[:,['shooting','passing']].dropna()\n",
        "\n",
        "# 사이킷런에 모델에 적용시킨다.\n",
        "model = KMeans(n_clusters=3, random_state=0, algorithm='auto')    # n_clusters 값이 군집의 갯수이다.\n",
        "model.fit(group_korea)\n",
        "\n",
        "# 그래프 표현\n",
        "pred = model.predict(group_korea) \n",
        "centers = model.cluster_centers_ \n",
        "plt.scatter(x=group_korea['shooting'], y=group_korea['passing'], c=pred) \n",
        "plt.scatter(x=centers[:,0], y=centers[:,1], marker='*', s=250, c = 'white', edgecolor='black',)"
      ],
      "execution_count": null,
      "outputs": [
        {
          "output_type": "execute_result",
          "data": {
            "text/plain": [
              "<matplotlib.collections.PathCollection at 0x7efdf6731a90>"
            ]
          },
          "metadata": {},
          "execution_count": 68
        },
        {
          "output_type": "display_data",
          "data": {
            "image/png": "[encoded data removed]",
            "text/plain": [
              "<Figure size 432x288 with 1 Axes>"
            ]
          },
          "metadata": {
            "needs_background": "light"
          }
        }
      ]
    },
    {
      "cell_type": "code",
      "metadata": {
        "id": "mL2nJDNgHhZS"
      },
      "source": [
        ""
      ],
      "execution_count": null,
      "outputs": []
    }
  ]
}