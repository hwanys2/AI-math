{
  "nbformat": 4,
  "nbformat_minor": 0,
  "metadata": {
    "colab": {
      "name": "5_1.선형회귀.ipynb",
      "provenance": [],
      "include_colab_link": true
    },
    "kernelspec": {
      "name": "python3",
      "display_name": "Python 3"
    },
    "language_info": {
      "name": "python"
    }
  },
  "cells": [
    {
      "cell_type": "markdown",
      "metadata": {
        "id": "view-in-github",
        "colab_type": "text"
      },
      "source": [
        "<a href=\"https://colab.research.google.com/github/hwanys2/AI-math/blob/main/5.%ED%9A%8C%EA%B7%80%EC%99%80%EB%B6%84%EB%A5%98/5_1.%EC%84%A0%ED%98%95%ED%9A%8C%EA%B7%80.ipynb\" target=\"_parent\"><img src=\"https://colab.research.google.com/assets/colab-badge.svg\" alt=\"Open In Colab\"/></a>"
      ]
    },
    {
      "cell_type": "markdown",
      "source": [
        "# 농어 무게 예측하기\n",
        "농어의 길이와 무게가 나온 자료를 바탕으로 선형회귀를 통해 길이가 주어졌을 때, 농어의 길이를 예측해 보는 활동을 해보도록 하겠습니다.  \n",
        "55개의 데이터를 다음과 같이직접 입력하여 불러오겠습니다.  \n",
        "아래의 내용은 '*혼자공부하는 머신러닝+딥러닝*' 책을 참고하였습니다."
      ],
      "metadata": {
        "id": "Wtx3HWbbudG4"
      }
    },
    {
      "cell_type": "code",
      "execution_count": null,
      "metadata": {
        "id": "9ro_vxYzPe1n"
      },
      "outputs": [],
      "source": [
        "import numpy as np\n",
        "perch_length = np.array(\n",
        "    [ 8.4, 13.7, 15.0, 16.2, 17.4, 18.0, 18.7, 19.0, 19.6, 20.0, \n",
        "    21.0, 21.0, 21.0, 21.3, 22.0, 22.0, 22.0, 22.0, 22.0, 22.5, \n",
        "    22.5, 22.7, 23.0, 23.5, 24.0, 24.0, 24.6, 25.0, 25.6, 26.5, \n",
        "    27.3, 27.5, 27.5, 27.5, 28.0, 28.7, 30.0, 32.8, 34.5, 35.0, \n",
        "    36.5, 36.0, 37.0, 37.0, 39.0, 39.0, 39.0, 40.0, 40.0, 40.0, \n",
        "    40.0, 42.0, 43.0, 43.0, 43.5, 44.0]\n",
        "    )\n",
        "perch_weight = np.array(\n",
        "    [ 5.9, 32.0, 40.0, 51.5, 70.0, 100.0, 78.0, 80.0, 85.0, 85.0,\n",
        "    110.0, 115.0, 125.0, 130.0, 120.0, 120.0, 130.0, 135.0, 110.0,\n",
        "    130.0, 150.0, 145.0, 150.0, 170.0, 225.0, 145.0, 188.0, 180.0,\n",
        "    197.0, 218.0, 300.0, 260.0, 265.0, 250.0, 250.0, 300.0, 320.0,\n",
        "    514.0, 556.0, 840.0, 685.0, 700.0, 700.0, 690.0, 900.0, 650.0,\n",
        "    820.0, 850.0, 900.0, 1015.0, 820.0, 1100.0, 1000.0, 1100.0,\n",
        "    1000.0, 1000.0]\n",
        "    )"
      ]
    },
    {
      "cell_type": "markdown",
      "source": [
        "이 자료를 산점도로 나타내어 시각적으로 확인해보도록 하겠습니다."
      ],
      "metadata": {
        "id": "drRZsYZlvN2u"
      }
    },
    {
      "cell_type": "code",
      "source": [
        "import matplotlib.pyplot as plt\n",
        "plt.scatter(perch_length, perch_weight)\n",
        "plt.xlabel('length')\n",
        "plt.ylabel('weight')\n",
        "plt.show()"
      ],
      "metadata": {
        "id": "WpmlaPG6P3wU"
      },
      "execution_count": null,
      "outputs": []
    },
    {
      "cell_type": "markdown",
      "source": [
        "선형 회귀식을 찾아보도록 하겠습니다.  \n",
        "이 때 단순히 모든 자료에 대한 선형회귀 자료를 만드는 것이 아닌  \n",
        "데이터를 훈련데이터와 테스트데이터로 분류합니다.  \n",
        "분류하여 훈련데이터를 바탕으로 선형회귀시키고 이것이 테스트데이터에 얼마나 잘 작동하는지 살펴봅니다.  \n",
        "현재 데이터를 보면 크기순으로 배열되어 있는 데이터임을 확인할 수 있습니다. 이럴 때 차례대로 데이터를 분류한다면 모델이 잘 만들어지지 않을 가능성이 높습니다.  \n",
        "따라서 잘 섞어줄 필요가 있습니다. 앞서 사용했던 random 모듈을 통해 분류할 수도 있겠지만  \n",
        "사이킷런 라이브러리에서 제공하는 코드를 사용하도록 하겠습니다.  \n",
        "train_test_split(독립변수, 종속변수)를 넣어주면 됩니다.  \n",
        "이번 실습에서는 random_state=42 를 지정했는데 이는 동일한 결과를 얻기 위해 적은 것으로 실제 데이터 분류할 때는 사용하지 않아도 됩니다.  \n",
        "이렇게 분류된 데이터를 사이킷런의 선형회귀 모델에 적합한 형태로 모양을 변경해 주겠습니다."
      ],
      "metadata": {
        "id": "MqwNB_dcvWp9"
      }
    },
    {
      "cell_type": "code",
      "source": [
        "from sklearn.model_selection import train_test_split\n",
        "# 훈련 세트와 테스트 세트로 나눕니다\n",
        "train_input, test_input, train_target, test_target = train_test_split(perch_length, perch_weight, random_state=42)\n",
        "# 훈련 세트와 테스트 세트를 2차원 배열로 바꿉니다\n",
        "train_input = train_input.reshape(-1, 1)\n",
        "test_input = test_input.reshape(-1, 1)"
      ],
      "metadata": {
        "id": "t4amWQdbPnpb"
      },
      "execution_count": null,
      "outputs": []
    },
    {
      "cell_type": "markdown",
      "source": [
        "실행방법은 간단합니다.  \n",
        "LinearRegression을 임포트하고 lr이라는 이름의 객체를 생성합니다.  \n",
        "이제 여기에 데이터를 fit 시키면 lr은 선형회귀 모델이 됩니다.  \n",
        "predict라는 명령어를 통해 길이에 따른 무게를 예측해볼 수 있습니다."
      ],
      "metadata": {
        "id": "nLHqD658pWf8"
      }
    },
    {
      "cell_type": "code",
      "source": [
        "from sklearn.linear_model import LinearRegression\n",
        "lr = LinearRegression()\n",
        "# 선형 회귀 모델을 훈련합니다\n",
        "lr.fit(train_input, train_target)\n",
        "# 50cm 농어에 대해 예측합니다\n",
        "print(lr.predict([[50]]))"
      ],
      "metadata": {
        "id": "VvIXs8aPPs3I"
      },
      "execution_count": null,
      "outputs": []
    },
    {
      "cell_type": "markdown",
      "source": [
        "실제 어떻게 선형회귀 되어있는지는 coef_, intercept_라는 변수에 담겨 있습니다.  \n",
        "다음과 같이 확인해볼 수 있습니다. "
      ],
      "metadata": {
        "id": "svQBl3Wepj3P"
      }
    },
    {
      "cell_type": "code",
      "source": [
        "print(lr.coef_, lr.intercept_)"
      ],
      "metadata": {
        "id": "G_kDBFvwQOZ-"
      },
      "execution_count": null,
      "outputs": []
    },
    {
      "cell_type": "markdown",
      "source": [
        "그래프로 살펴보면 다음과 같습니다."
      ],
      "metadata": {
        "id": "3SdqkDoHqQqX"
      }
    },
    {
      "cell_type": "code",
      "source": [
        "# 훈련 세트의 산점도를 그립니다\n",
        "plt.scatter(train_input, train_target)\n",
        "# 15에서 50까지 1차 방정식 그래프를 그립니다\n",
        "plt.plot([15, 50], [15*lr.coef_+lr.intercept_, 50*lr.coef_+lr.intercept_])\n",
        "# 50cm 농어 데이터\n",
        "plt.scatter(50, 1241.8, marker='^')\n",
        "plt.xlabel('length')\n",
        "plt.ylabel('weight')\n",
        "plt.show()"
      ],
      "metadata": {
        "id": "OY7fenyqQRle"
      },
      "execution_count": null,
      "outputs": []
    },
    {
      "cell_type": "markdown",
      "source": [
        "이 선형모델의 점수를 살펴보겠습니다.  \n",
        "1에 가까울 수록 정확히 예측하는 모델입니다.  \n",
        "이 점수는 다음과 같이 계산됩니다.  \n",
        "$R^2 = 1- \\frac{(타깃-예측)^2의합}{(타깃-평균)^2의합}$\n"
      ],
      "metadata": {
        "id": "XP8jTzbVqVIz"
      }
    },
    {
      "cell_type": "code",
      "source": [
        "print(lr.score(train_input, train_target)) # 훈련 세트\n",
        "print(lr.score(test_input, test_target)) # 테스트 세트"
      ],
      "metadata": {
        "id": "f8_yOy6wQU1p",
        "collapsed": true
      },
      "execution_count": null,
      "outputs": []
    },
    {
      "cell_type": "markdown",
      "source": [
        "훈련데이터에 다소 과대적합된 결과로 보입니다.  \n",
        "선형회귀는 간단하고 쉽게 데이터를 예측해주지만 본래 데이터의 분포가 선형이 아닌 경우 한계를 가질 수 밖에 없습니다.  \n",
        "항의 차수를 늘려서 선형회귀를 하면 보다 좋은 결과를 얻을 때가 있습니다.  \n",
        "위의 선형회귀는 길이 데이터 하나만 가지고 진행하였습니다.  \n",
        "이번에는 $길이^2$과 길이를 사용하여 여러항이 존재하는 경우의 다항회귀를 진행해보겠습니다.  \n",
        "방법은 동일합니다. 우선 제곱항을 보함하는 데이터를 만들겠습니다."
      ],
      "metadata": {
        "id": "0ruXc1y5qkJg"
      }
    },
    {
      "cell_type": "code",
      "source": [
        "train_poly = np.column_stack((train_input ** 2, train_input))\n",
        "test_poly = np.column_stack((test_input ** 2, test_input))"
      ],
      "metadata": {
        "id": "k9Hu7AfHQjbQ"
      },
      "execution_count": null,
      "outputs": []
    },
    {
      "cell_type": "markdown",
      "source": [
        "이 후 위에서 한 선형회귀와 동일하게 모델을 학습시키겠습니다.  \n",
        "제곱이 들어가 2차식이라고 생각되실 수도 있으나  \n",
        "$길이^2$을 왕길이라고 생각한다면  \n",
        "왕길이, 길이에 대한 선형관계로 표현할 수 있어 LinearRegression이 잘 작동합니다."
      ],
      "metadata": {
        "id": "QJigvbxdr6PB"
      }
    },
    {
      "cell_type": "code",
      "source": [
        "lr = LinearRegression()\n",
        "lr.fit(train_poly, train_target)\n",
        "print(lr.predict([[50**2, 50]]))"
      ],
      "metadata": {
        "id": "vaOHyovtQxCu"
      },
      "execution_count": null,
      "outputs": []
    },
    {
      "cell_type": "markdown",
      "source": [
        "이제 모델의 계수들을 확인해보겠습니다."
      ],
      "metadata": {
        "id": "dCr3X-zEsOOj"
      }
    },
    {
      "cell_type": "code",
      "source": [
        "print(lr.coef_, lr.intercept_)"
      ],
      "metadata": {
        "id": "Pfq45cjXQ4Vf"
      },
      "execution_count": null,
      "outputs": []
    },
    {
      "cell_type": "markdown",
      "source": [
        "coef_ 값이 리스트로 2개가 나왔습니다. 첫 번째는 $길이^2$의 계수와 길이의 계수입니다.  \n",
        "마지막 값은 y절편이구요.  \n",
        "이를 그림으로 표현해보면 다음과 같습니다."
      ],
      "metadata": {
        "id": "SSzq7PeRsRzl"
      }
    },
    {
      "cell_type": "code",
      "source": [
        "# 구간별 직선을 그리기 위해 15에서 49까지 정수 배열을 만듭니다\n",
        "point = np.arange(15, 50)\n",
        "# 훈련 세트의 산점도를 그립니다\n",
        "plt.scatter(train_input, train_target)\n",
        "# 15에서 49까지 2차 방정식 그래프를 그립니다\n",
        "plt.plot(point, 1.01*point**2 - 21.6*point + 116.05)\n",
        "# 50cm 농어 데이터\n",
        "plt.scatter(50, 1574, marker='^')\n",
        "plt.xlabel('length')\n",
        "plt.ylabel('weight')\n",
        "plt.show()"
      ],
      "metadata": {
        "id": "WSfs-xb0Q8Po"
      },
      "execution_count": null,
      "outputs": []
    },
    {
      "cell_type": "markdown",
      "source": [
        "점수를 확인해보겠습니다.  \n",
        "훈련세트와 테스트 세트 점수 모두 높아진 것을 확인할 수 있습니다.  \n"
      ],
      "metadata": {
        "id": "pXQoPPNzs_4f"
      }
    },
    {
      "cell_type": "code",
      "source": [
        "print(lr.score(train_poly, train_target))\n",
        "print(lr.score(test_poly, test_target))"
      ],
      "metadata": {
        "id": "ZlAD15saQ-ZZ"
      },
      "execution_count": null,
      "outputs": []
    }
  ]
}