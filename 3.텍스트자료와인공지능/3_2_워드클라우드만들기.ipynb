{
  "nbformat": 4,
  "nbformat_minor": 0,
  "metadata": {
    "colab": {
      "name": "3-2.워드클라우드만들기.ipynb",
      "private_outputs": true,
      "provenance": [],
      "authorship_tag": "ABX9TyNjFt901Flz+c0dgyXOAQ1F",
      "include_colab_link": true
    },
    "kernelspec": {
      "name": "python3",
      "display_name": "Python 3"
    },
    "language_info": {
      "name": "python"
    }
  },
  "cells": [
    {
      "cell_type": "markdown",
      "metadata": {
        "id": "view-in-github",
        "colab_type": "text"
      },
      "source": [
        "<a href=\"https://colab.research.google.com/github/hwanys2/AI-math/blob/main/3.%ED%85%8D%EC%8A%A4%ED%8A%B8%EC%9E%90%EB%A3%8C%EC%99%80%EC%9D%B8%EA%B3%B5%EC%A7%80%EB%8A%A5/3_2_%EC%9B%8C%EB%93%9C%ED%81%B4%EB%9D%BC%EC%9A%B0%EB%93%9C%EB%A7%8C%EB%93%A4%EA%B8%B0.ipynb\" target=\"_parent\"><img src=\"https://colab.research.google.com/assets/colab-badge.svg\" alt=\"Open In Colab\"/></a>"
      ]
    },
    {
      "cell_type": "markdown",
      "source": [
        "# 워드클라우드 만들기\n",
        "워드 클라우드를 만들어 보겠습니다.  \n",
        "\n"
      ],
      "metadata": {
        "id": "X9hFs_nAGxR6"
      }
    },
    {
      "cell_type": "code",
      "execution_count": null,
      "metadata": {
        "id": "A9ofgaUYGZYm"
      },
      "outputs": [],
      "source": [
        "from wordcloud import WordCloud\n",
        "import matplotlib.pyplot as plt\n",
        "\n",
        "wc = WordCloud()\n",
        "wc.generate('hello my name is jinhwan')\n",
        "plt.imshow(wc) "
      ]
    },
    {
      "cell_type": "code",
      "source": [
        ""
      ],
      "metadata": {
        "id": "clW8jGmBGrGc"
      },
      "execution_count": null,
      "outputs": []
    }
  ]
}