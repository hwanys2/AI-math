{
  "nbformat": 4,
  "nbformat_minor": 0,
  "metadata": {
    "colab": {
      "name": "3-2.워드클라우드만들기.ipynb",
      "private_outputs": true,
      "provenance": [],
      "authorship_tag": "ABX9TyMf49obhFJKchIuJ6zRhA51",
      "include_colab_link": true
    },
    "kernelspec": {
      "name": "python3",
      "display_name": "Python 3"
    },
    "language_info": {
      "name": "python"
    }
  },
  "cells": [
    {
      "cell_type": "markdown",
      "metadata": {
        "id": "view-in-github",
        "colab_type": "text"
      },
      "source": [
        "<a href=\"https://colab.research.google.com/github/hwanys2/AI-math/blob/main/3.%ED%85%8D%EC%8A%A4%ED%8A%B8%EC%9E%90%EB%A3%8C%EC%99%80%EC%9D%B8%EA%B3%B5%EC%A7%80%EB%8A%A5/3_2_%EC%9B%8C%EB%93%9C%ED%81%B4%EB%9D%BC%EC%9A%B0%EB%93%9C%EB%A7%8C%EB%93%A4%EA%B8%B0.ipynb\" target=\"_parent\"><img src=\"https://colab.research.google.com/assets/colab-badge.svg\" alt=\"Open In Colab\"/></a>"
      ]
    },
    {
      "cell_type": "markdown",
      "source": [
        "# 워드클라우드 만들기\n",
        "워드 클라우드를 만들어 보겠습니다.  \n",
        "wordcloud 라이브러리와 그림으로 표현해주기 위해 matplotlib 이 필요합니다.  \n",
        "구조는 간단합니다.  \n",
        "wordcloud 객체를 생성하고 텍스트를 넣어 생성한 후 matplolib으로 그려주면 됩니다.  \n",
        "다음과 같은 형태입니다.\n",
        "\n"
      ],
      "metadata": {
        "id": "X9hFs_nAGxR6"
      }
    },
    {
      "cell_type": "code",
      "execution_count": null,
      "metadata": {
        "id": "A9ofgaUYGZYm"
      },
      "outputs": [],
      "source": [
        "from wordcloud import WordCloud\n",
        "import matplotlib.pyplot as plt\n",
        "\n",
        "wc = WordCloud()\n",
        "wc.generate('''코로나19 변이 바이러스인 오미크론이 확산하면서 지난 주 전 세계적으로 기록된 신규 코로나19 사례 수가 전주 대비 11% 증가한 것으로 집계됐다고 세계보건기구(WHO)가 밝혔다. 또, 사망자 수는 전주 대비 4% 감소한 것으로 나타났다. \n",
        "28일(현지시간) AP통신에 따르면 WHO는 이달 20일~26일 주간 코로나19 보고서를 발간하고 이 기간, 전 세계적으로 약 499만건에 달하는 신규 사례가 보고됐다고 밝혔다. 유럽이 284만명으로 전체의 절반 이상을 차지했고 미주 지역이 148만명으로 그다음이었다. \n",
        "특히 미주 지역의 확산 속도가 빠른 것으로 나타났다. 미주 지역의 전주 대비 증가율은 39%였다. 유럽은 전주 대비 3% 증가했다. 인구 10만명 당 확진자 수는 유럽이 304.6명, 미주가 144.4명으로 나타났다. \n",
        "''')\n",
        "plt.imshow(wc) "
      ]
    },
    {
      "cell_type": "markdown",
      "source": [
        "네모로 보이는 이유는 폰트 문제 때문입니다.  \n",
        "다음과 같이 한글 폰트를 설정 및 지정하여 다시 실행해보겠습니다.  \n",
        "워드클라우드에서 한글을 사용하려면 폰트를 따로 지정해주어야 합니다.  \n",
        "다음과 같이 나눔폰트를 설치하여 사용하겠습니다."
      ],
      "metadata": {
        "id": "4sdfPYrZiZIb"
      }
    },
    {
      "cell_type": "code",
      "source": [
        "!apt-get install fonts-nanum*\n",
        "!apt-get install fontconfig"
      ],
      "metadata": {
        "id": "clW8jGmBGrGc"
      },
      "execution_count": null,
      "outputs": []
    },
    {
      "cell_type": "code",
      "source": [
        "FONT_PATH = '/usr/share/fonts/truetype/nanum/NanumGothic.ttf'\n",
        "wc = WordCloud(font_path=FONT_PATH)\n",
        "wc.generate('''코로나19 변이 바이러스인 오미크론이 확산하면서 지난 주 전 세계적으로 기록된 신규 코로나19 사례 수가 전주 대비 11% 증가한 것으로 집계됐다고 세계보건기구(WHO)가 밝혔다. 또, 사망자 수는 전주 대비 4% 감소한 것으로 나타났다. \n",
        "28일(현지시간) AP통신에 따르면 WHO는 이달 20일~26일 주간 코로나19 보고서를 발간하고 이 기간, 전 세계적으로 약 499만건에 달하는 신규 사례가 보고됐다고 밝혔다. 유럽이 284만명으로 전체의 절반 이상을 차지했고 미주 지역이 148만명으로 그다음이었다. \n",
        "특히 미주 지역의 확산 속도가 빠른 것으로 나타났다. 미주 지역의 전주 대비 증가율은 39%였다. 유럽은 전주 대비 3% 증가했다. 인구 10만명 당 확진자 수는 유럽이 304.6명, 미주가 144.4명으로 나타났다. \n",
        "''')\n",
        "plt.imshow(wc) \n",
        "plt.axis('off')  # 위그림과과 비교해보면 x y축의의 좌표가가 사라진것을 확인하실실 수 있습니다."
      ],
      "metadata": {
        "id": "MuWfx6wBkJsn"
      },
      "execution_count": null,
      "outputs": []
    },
    {
      "cell_type": "markdown",
      "source": [
        "이제 워드클라우드 설정을 해보도록 하겠습니다.  \n",
        "\n",
        "설정가능한 옵션 중 몇개만 살펴보겠습니다.\n",
        "\n",
        "**font_path=None**  \n",
        "**width=400**  \n",
        "**height=200**  \n",
        "**mask=None**  \n",
        "**stopwords=None**  \n",
        "**background_color='black'**  \n",
        "\n",
        "fornt_path는 위에서 지정하며 사용하였고, 위와 같은 방법으로 사용할 수 있습니다.  \n",
        "width와 height 값을 지정함으로써 원하는 형태의 워드클라우드를 만들 수 있습니다.  \n",
        "mask를 이용하여 원하는 모양의 그림을 지정하는 것은 잠시 후 함께 실습해보도록 하겠습니다.  \n",
        "stopwords는 입력하는 텍스트에는 들어 있더라도 워드클라우드에서 제거하고 싶은 단어 목록을 만드는 것입니다. 우선 워드클라우드를 만들고 제거해야 할 단어가 보인다면 이를 추가하여 다시 워드클라우드를 만들 수도 있습니다.  \n",
        "backgraoud_color 은 기본값이 검정색이라 위의 워드클라우드의 배경색이 검정색이었습니다.  \n",
        "이제 한 번 mask를 이용하여 워드클라우드를 만들어 보겠습니다.  \n",
        "우선 png 파일이 필요합니다.  \n",
        "배경이 없는 이미지 파일을 다운로드 받아 mask.png 파일로 변경 후 왼쪽 폴더에 집어 넣어주세요.  \n",
        "그리고 아래를 실행시키면 그림에 맞는 워드클라우드가 만들어집니다."
      ],
      "metadata": {
        "id": "FoWq0TKKIc_U"
      }
    },
    {
      "cell_type": "code",
      "source": [
        "from PIL import Image\n",
        "import numpy as np\n",
        "\n",
        "mask = np.array(Image.open('/content/mask.png'))\n",
        "\n",
        "wc = WordCloud(font_path=FONT_PATH, mask = mask, background_color=\"white\")\n",
        "wc.generate('''코로나19 변이 바이러스인 오미크론이 확산하면서 지난 주 전 세계적으로 기록된 신규 코로나19 사례 수가 전주 대비 11% 증가한 것으로 집계됐다고 세계보건기구(WHO)가 밝혔다. 또, 사망자 수는 전주 대비 4% 감소한 것으로 나타났다. \n",
        "28일(현지시간) AP통신에 따르면 WHO는 이달 20일~26일 주간 코로나19 보고서를 발간하고 이 기간, 전 세계적으로 약 499만건에 달하는 신규 사례가 보고됐다고 밝혔다. 유럽이 284만명으로 전체의 절반 이상을 차지했고 미주 지역이 148만명으로 그다음이었다. \n",
        "특히 미주 지역의 확산 속도가 빠른 것으로 나타났다. 미주 지역의 전주 대비 증가율은 39%였다. 유럽은 전주 대비 3% 증가했다. 인구 10만명 당 확진자 수는 유럽이 304.6명, 미주가 144.4명으로 나타났다. \n",
        "''')\n",
        "plt.imshow(wc) \n",
        "plt.axis('off') "
      ],
      "metadata": {
        "id": "bittfZqikabQ"
      },
      "execution_count": null,
      "outputs": []
    },
    {
      "cell_type": "markdown",
      "source": [
        "위자료는 텍스트가 전처리 되지 않아 조사나 의미없는 단어들도 많이 포함되어있는 것을 확인할 수 있습니다.  \n",
        "2-2에서 전처리를 끝낸 preprocessed_title_list.pkl 파일을 불러와 워드클라우드를 만들어보겠습니다.  \n",
        "우선 파일을 불러오겠습니다.  **다운로드 받아진 파일을 왼쪽 파일창에 업로드 시켜주세요.**"
      ],
      "metadata": {
        "id": "zDjYe3FsV5vW"
      }
    },
    {
      "cell_type": "code",
      "source": [
        "import pickle\n",
        "with open('/content/preprocessed_title_list.pkl', 'rb') as f:\n",
        "    preprocessed_title_list = pickle.load(f)\n",
        "preprocessed_title_list"
      ],
      "metadata": {
        "id": "c8SB6G3-Pj6O"
      },
      "execution_count": null,
      "outputs": []
    },
    {
      "cell_type": "markdown",
      "source": [
        "이 중 명사만 모아보겠습니다."
      ],
      "metadata": {
        "id": "gJqW_-htXFiZ"
      }
    },
    {
      "cell_type": "code",
      "source": [
        "nouns = \"\"\n",
        "for title in preprocessed_title_list:\n",
        "    for word, tag in title:\n",
        "        if tag == 'Noun':\n",
        "            nouns += word + \" \"\n",
        "nouns"
      ],
      "metadata": {
        "id": "Lk5ZOYjKWmuz"
      },
      "execution_count": null,
      "outputs": []
    },
    {
      "cell_type": "markdown",
      "source": [
        "이걸 가지고 워드클라우드를 만들어 보겠습니다. "
      ],
      "metadata": {
        "id": "gz6kPLLtXfIF"
      }
    },
    {
      "cell_type": "code",
      "source": [
        "wc = WordCloud(width=700, height=700, background_color='white',font_path=FONT_PATH)\n",
        "wc.generate(nouns)\n",
        "plt.imshow(wc) \n",
        "plt.axis('off') "
      ],
      "metadata": {
        "id": "5AWKsYkkXT9M"
      },
      "execution_count": null,
      "outputs": []
    },
    {
      "cell_type": "code",
      "source": [
        ""
      ],
      "metadata": {
        "id": "-LBY11n7XzT2"
      },
      "execution_count": null,
      "outputs": []
    }
  ]
}