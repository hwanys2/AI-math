{
  "nbformat": 4,
  "nbformat_minor": 0,
  "metadata": {
    "colab": {
      "name": "3-2.워드클라우드만들기.ipynb",
      "private_outputs": true,
      "provenance": [],
      "authorship_tag": "ABX9TyO/1Mv6wVjvQZRAz3eaJjcg",
      "include_colab_link": true
    },
    "kernelspec": {
      "name": "python3",
      "display_name": "Python 3"
    },
    "language_info": {
      "name": "python"
    }
  },
  "cells": [
    {
      "cell_type": "markdown",
      "metadata": {
        "id": "view-in-github",
        "colab_type": "text"
      },
      "source": [
        "<a href=\"https://colab.research.google.com/github/hwanys2/AI-math/blob/main/3.%ED%85%8D%EC%8A%A4%ED%8A%B8%EC%9E%90%EB%A3%8C%EC%99%80%EC%9D%B8%EA%B3%B5%EC%A7%80%EB%8A%A5/3_2_%EC%9B%8C%EB%93%9C%ED%81%B4%EB%9D%BC%EC%9A%B0%EB%93%9C%EB%A7%8C%EB%93%A4%EA%B8%B0.ipynb\" target=\"_parent\"><img src=\"https://colab.research.google.com/assets/colab-badge.svg\" alt=\"Open In Colab\"/></a>"
      ]
    },
    {
      "cell_type": "markdown",
      "source": [
        "# 워드클라우드 만들기\n",
        "워드 클라우드를 만들어 보겠습니다.  \n",
        "wordcloud 라이브러리와 그림으로 표현해주기 위해 matplotlib 이 필요합니다.  \n",
        "구조는 간단합니다.  \n",
        "wordcloud 객체를 생성하고 텍스트를 넣어 생성한 후 matplolib으로 그려주면 됩니다.  \n",
        "다음과 같은 형태입니다.\n",
        "\n"
      ],
      "metadata": {
        "id": "X9hFs_nAGxR6"
      }
    },
    {
      "cell_type": "code",
      "execution_count": null,
      "metadata": {
        "id": "A9ofgaUYGZYm"
      },
      "outputs": [],
      "source": [
        "from wordcloud import WordCloud\n",
        "import matplotlib.pyplot as plt\n",
        "\n",
        "wc = WordCloud()\n",
        "wc.generate('''코로나19 변이 바이러스인 오미크론이 확산하면서 지난 주 전 세계적으로 기록된 신규 코로나19 사례 수가 전주 대비 11% 증가한 것으로 집계됐다고 세계보건기구(WHO)가 밝혔다. 또, 사망자 수는 전주 대비 4% 감소한 것으로 나타났다. \n",
        "28일(현지시간) AP통신에 따르면 WHO는 이달 20일~26일 주간 코로나19 보고서를 발간하고 이 기간, 전 세계적으로 약 499만건에 달하는 신규 사례가 보고됐다고 밝혔다. 유럽이 284만명으로 전체의 절반 이상을 차지했고 미주 지역이 148만명으로 그다음이었다. \n",
        "특히 미주 지역의 확산 속도가 빠른 것으로 나타났다. 미주 지역의 전주 대비 증가율은 39%였다. 유럽은 전주 대비 3% 증가했다. 인구 10만명 당 확진자 수는 유럽이 304.6명, 미주가 144.4명으로 나타났다. \n",
        "''')\n",
        "plt.imshow(wc) "
      ]
    },
    {
      "cell_type": "markdown",
      "source": [
        "네모로 보이는 이유는 폰트 문제 때문입니다.  \n",
        "다음과 같이 한글 폰트를 설정 및 지정하여 다시 실행해보겠습니다.  \n",
        "워드클라우드에서 한글을 사용하려면 폰트를 따로 지정해주어야 합니다.  \n",
        "다음과 같이 나눔폰트를 설치하여 사용하겠습니다."
      ],
      "metadata": {
        "id": "4sdfPYrZiZIb"
      }
    },
    {
      "cell_type": "code",
      "source": [
        "!apt-get install fonts-nanum*\n",
        "!apt-get install fontconfig"
      ],
      "metadata": {
        "id": "clW8jGmBGrGc"
      },
      "execution_count": null,
      "outputs": []
    },
    {
      "cell_type": "code",
      "source": [
        "FONT_PATH = '/usr/share/fonts/truetype/nanum/NanumGothic.ttf'\n",
        "wc = WordCloud(font_path=FONT_PATH)\n",
        "wc.generate('''코로나19 변이 바이러스인 오미크론이 확산하면서 지난 주 전 세계적으로 기록된 신규 코로나19 사례 수가 전주 대비 11% 증가한 것으로 집계됐다고 세계보건기구(WHO)가 밝혔다. 또, 사망자 수는 전주 대비 4% 감소한 것으로 나타났다. \n",
        "28일(현지시간) AP통신에 따르면 WHO는 이달 20일~26일 주간 코로나19 보고서를 발간하고 이 기간, 전 세계적으로 약 499만건에 달하는 신규 사례가 보고됐다고 밝혔다. 유럽이 284만명으로 전체의 절반 이상을 차지했고 미주 지역이 148만명으로 그다음이었다. \n",
        "특히 미주 지역의 확산 속도가 빠른 것으로 나타났다. 미주 지역의 전주 대비 증가율은 39%였다. 유럽은 전주 대비 3% 증가했다. 인구 10만명 당 확진자 수는 유럽이 304.6명, 미주가 144.4명으로 나타났다. \n",
        "''')\n",
        "plt.imshow(wc) \n",
        "plt.axis('off')  # 위그림과과 비교해보면 x y축의의 좌표가가 사라진것을 확인하실실 수 있습니다."
      ],
      "metadata": {
        "id": "MuWfx6wBkJsn"
      },
      "execution_count": null,
      "outputs": []
    },
    {
      "cell_type": "markdown",
      "source": [
        "이제 워드클라우드 설정을 해보도록 하겠습니다.  \n",
        "\n",
        "설정가능한 옵션 중 몇개만 살펴보겠습니다.\n",
        "\n",
        "**font_path=None**  \n",
        "**width=400**  \n",
        "**height=200**  \n",
        "**mask=None**  \n",
        "**stopwords=None**  \n",
        "**background_color='black'**  \n",
        "\n",
        "fornt_path는 위에서 지정하며 사용하였고, 위와 같은 방법으로 사용할 수 있습니다.  \n",
        "width와 height 값을 지정함으로써 원하는 형태의 워드클라우드를 만들 수 있습니다.  \n",
        "mask를 이용하여 원하는 모양의 그림을 지정하는 것은 잠시 후 함께 실습해보도록 하겠습니다.  \n",
        "stopwords는 입력하는 텍스트에는 들어 있더라도 워드클라우드에서 제거하고 싶은 단어 목록을 만드는 것입니다. 우선 워드클라우드를 만들고 제거해야 할 단어가 보인다면 이를 추가하여 다시 워드클라우드를 만들 수도 있습니다.  \n",
        "backgraoud_color 은 기본값이 검정색이라 위의 워드클라우드의 배경색이 검정색이었습니다.  \n",
        "이제 한 번 mask를 이용하여 워드클라우드를 만들어 보겠습니다.  \n",
        "우선 png 파일이 필요합니다.  \n",
        "구글 이미지 검색에서 {검색어 png}로 검색하시고, 배경이 없는 png 이미지를 오른쪽 마우스 누르시면 이미지 주소 복사가 있습니다.  \n",
        "이 주소를 아래의 9번째 줄에 \" \" 안을 지우고 붙여 넣으시면 해당 이미지의 워드클라우드를 만들 수 있습니다.\n",
        "그리고 아래를 실행시키면 그림에 맞는 워드클라우드가 만들어집니다."
      ],
      "metadata": {
        "id": "FoWq0TKKIc_U"
      }
    },
    {
      "cell_type": "code",
      "source": [
        "from urllib.request import Request, urlopen\n",
        "from io import BytesIO\n",
        "from wordcloud import WordCloud, ImageColorGenerator\n",
        "import matplotlib.pyplot as plt\n",
        "from PIL import Image\n",
        "import requests\n",
        "import numpy as np\n",
        "\n",
        "###################     이미지를 변경하고 싶다면 아래 url에 이미지 주소를 입력하세요      ##############\n",
        "url = \"https://e7.pngegg.com/pngimages/645/877/png-clipart-turtle-shell-reptile-russian-tortoise-pet-turtle.png\"\n",
        "##########################################################################################\n",
        "req = Request(url, headers={'User-Agent': 'Mozilla/5.0'})\n",
        "res = urlopen(req).read()\n",
        "img = Image.open(BytesIO(res))\n",
        "mask = np.array(img)\n",
        "for i in range(len(mask)):\n",
        "    for j in range(len(mask[i])):\n",
        "        if mask[i][j] ==0:\n",
        "            mask[i][j] = 255\n",
        "wc = WordCloud(font_path=FONT_PATH, mask = mask, background_color=\"white\")\n",
        "wc.generate('''코로나19 변이 바이러스인 오미크론이 확산하면서 지난 주 전 세계적으로 기록된 신규 코로나19 사례 수가 전주 대비 11% 증가한 것으로 집계됐다고 세계보건기구(WHO)가 밝혔다. 또, 사망자 수는 전주 대비 4% 감소한 것으로 나타났다. \n",
        "28일(현지시간) AP통신에 따르면 WHO는 이달 20일~26일 주간 코로나19 보고서를 발간하고 이 기간, 전 세계적으로 약 499만건에 달하는 신규 사례가 보고됐다고 밝혔다. 유럽이 284만명으로 전체의 절반 이상을 차지했고 미주 지역이 148만명으로 그다음이었다. \n",
        "특히 미주 지역의 확산 속도가 빠른 것으로 나타났다. 미주 지역의 전주 대비 증가율은 39%였다. 유럽은 전주 대비 3% 증가했다. 인구 10만명 당 확진자 수는 유럽이 304.6명, 미주가 144.4명으로 나타났다. \n",
        "''')\n",
        "plt.imshow(wc) \n",
        "plt.axis('off') "
      ],
      "metadata": {
        "id": "bittfZqikabQ"
      },
      "execution_count": null,
      "outputs": []
    },
    {
      "cell_type": "markdown",
      "source": [
        "위자료는 텍스트가 전처리 되지 않아 조사나 의미없는 단어들도 많이 포함되어있는 것을 확인할 수 있습니다.  \n",
        "2-2에서 전처리를 끝낸 preprocessed_title_list.pkl 파일을 불러와 워드클라우드를 만들어보겠습니다.  \n",
        "우선 파일을 불러오겠습니다.  **다운로드 받아진 파일을 왼쪽 파일창에 업로드 시켜주세요.**  \n",
        "파일이 없으신 분은 아래의 링크를 클릭하여 다운로드 받아주세요.  \n",
        "[다운로드](https://drive.google.com/file/d/1FTQ2bhG3TxU5Ru-1TUXvI07pOcF509Al/view?usp=sharing)"
      ],
      "metadata": {
        "id": "zDjYe3FsV5vW"
      }
    },
    {
      "cell_type": "code",
      "source": [
        "import pickle\n",
        "with open('/content/preprocessed_title_list.pkl', 'rb') as f:\n",
        "    preprocessed_title_list = pickle.load(f)\n",
        "preprocessed_title_list"
      ],
      "metadata": {
        "id": "c8SB6G3-Pj6O"
      },
      "execution_count": null,
      "outputs": []
    },
    {
      "cell_type": "markdown",
      "source": [
        "이 중 명사만 모아보겠습니다.  \n",
        "명사를 nouns에 띄어쓰기로 모으는것과 함께  \n",
        "단어별 빈도를 기록하는 딕셔너리도 함게 만들겠습니다."
      ],
      "metadata": {
        "id": "gJqW_-htXFiZ"
      }
    },
    {
      "cell_type": "code",
      "source": [
        "nouns = \"\"\n",
        "nouns_dict = {}\n",
        "for title in preprocessed_title_list:\n",
        "    for word, tag in title:\n",
        "        if tag == 'Noun':\n",
        "            nouns += word + \" \"\n",
        "            if word not in nouns_dict:\n",
        "                nouns_dict[word]=0\n",
        "            nouns_dict[word] += 1\n",
        "nouns"
      ],
      "metadata": {
        "id": "Lk5ZOYjKWmuz"
      },
      "execution_count": null,
      "outputs": []
    },
    {
      "cell_type": "markdown",
      "source": [
        "위의 결과는 단어들을 띄어쓰기로 모두 구분한 것입니다.  \n",
        "nouns_dict에는 단어와 그 빈도가 담겨있습니다.  \n",
        "예를들어 '한국' 이라는 단어가 10번 등장했다면 {'한국' : 10} 과 같이 담겨 있습니다.  \n",
        "아래를 실행해서 확인해 보세요."
      ],
      "metadata": {
        "id": "k-N27a_iQWW3"
      }
    },
    {
      "cell_type": "code",
      "source": [
        "print(nouns_dict)"
      ],
      "metadata": {
        "id": "sUDd7IxgQqFx"
      },
      "execution_count": null,
      "outputs": []
    },
    {
      "cell_type": "markdown",
      "source": [
        "가장 많은 빈도를 가지는 순서대로 출력해보겠습니다.  "
      ],
      "metadata": {
        "id": "AXc447ZIQyzy"
      }
    },
    {
      "cell_type": "code",
      "source": [
        "nouns_dict_sorted = sorted(nouns_dict.items(), key = lambda x:x[1], reverse = True)\n",
        "print(nouns_dict_sorted)"
      ],
      "metadata": {
        "id": "R6g4Gjy6RC7x"
      },
      "execution_count": null,
      "outputs": []
    },
    {
      "cell_type": "markdown",
      "source": [
        "위 빈도를 워드클라우드가 잘 반영하고 있는지 nouns를 워드클라우드로 나타내보며 확인해보시길 바랍니다. "
      ],
      "metadata": {
        "id": "gz6kPLLtXfIF"
      }
    },
    {
      "cell_type": "code",
      "source": [
        "wc = WordCloud(width=700, height=700, background_color='white',font_path=FONT_PATH)\n",
        "wc.generate(nouns)\n",
        "plt.imshow(wc) \n",
        "plt.axis('off') "
      ],
      "metadata": {
        "id": "5AWKsYkkXT9M"
      },
      "execution_count": null,
      "outputs": []
    },
    {
      "cell_type": "markdown",
      "source": [
        "# 학생 학습 소감\n",
        "텍스트 자료 수집 및 분석의 과정을 수행평가로 진행하였고 학생들은 다음과 같이 자료를 해석하고 소감을 적었습니다.\n",
        "### 영화 댓글 자료 수집 및 분석한 학생\n",
        "*원작, 소설을 보고 이 영화가 소설 기반으로 제작된 영화라는 것을 유추할 수 있다. 세계관, 작품 등을 보고 세계관이 탄탄하다는 것을 유추해본다. 압도,웅장,SF 등을 보고 SF영화이며 압도적인 분위기와 웅장함을 갖춘 영화라는 생각이 든다. 감독, 스토리, 생각, 기대 등을 보고 감독의 스토리가 좋아 어떻게 이런생각을 하지? 라는 느낌인 것 같고 안 본 사람은 감독만 보고 이 영화를 기대하는 것 같다. 음악, 영화관 등을 보고 영화관에서 보면 음악 등이 더 생생하게 느껴질 것 같다는 생각이 든다. 이러한 불용어 제거 후 사람들의 한 줄 평에서 단어 들을 뽑아내는 과정으로 영화를 보지 않고도 어떤 내용일지 대략 예측 가능하다는 것이 신기하고 재밌다. 지금 이 과정은 간단하지만 이러한 알고리즘으로 어려운 분야의 예측과 연관이 있을 것 같다.*  \n",
        "### 뉴스 제목 자료 수집 및 분석한 학생\n",
        "*최근 가장 언급이 많이되고 화제가 되는 주제는 지스타와 게임이다. 회사 중에서 카카오와 LG 그리고 넷플릭스가 언급량이 많다. '메타' 란 단어가 많이 나오는 것을 보니 '메타버스'와 관련된 기사들이 많다. 따라서 총 5일간의 IT기사 중심 화제는 '지스타'와 '게임'이고 카카오나 LG와 같은 회사들의 기술이나 서비스 혹은 기타 등등의 기사들도 많이 보였다.*\n",
        "\n",
        "\n",
        "\n"
      ],
      "metadata": {
        "id": "8U32hFUOSlYa"
      }
    },
    {
      "cell_type": "code",
      "source": [
        ""
      ],
      "metadata": {
        "id": "XJvz_ZvXTP3N"
      },
      "execution_count": null,
      "outputs": []
    }
  ]
}