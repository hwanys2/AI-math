{
  "nbformat": 4,
  "nbformat_minor": 0,
  "metadata": {
    "colab": {
      "name": "3-2.워드클라우드만들기.ipynb",
      "private_outputs": true,
      "provenance": [],
      "authorship_tag": "ABX9TyPtJaNArMCw6sRIYQTPQbGA",
      "include_colab_link": true
    },
    "kernelspec": {
      "name": "python3",
      "display_name": "Python 3"
    },
    "language_info": {
      "name": "python"
    }
  },
  "cells": [
    {
      "cell_type": "markdown",
      "metadata": {
        "id": "view-in-github",
        "colab_type": "text"
      },
      "source": [
        "<a href=\"https://colab.research.google.com/github/hwanys2/AI-math/blob/main/3.%ED%85%8D%EC%8A%A4%ED%8A%B8%EC%9E%90%EB%A3%8C%EC%99%80%EC%9D%B8%EA%B3%B5%EC%A7%80%EB%8A%A5/3_2_%EC%9B%8C%EB%93%9C%ED%81%B4%EB%9D%BC%EC%9A%B0%EB%93%9C%EB%A7%8C%EB%93%A4%EA%B8%B0.ipynb\" target=\"_parent\"><img src=\"https://colab.research.google.com/assets/colab-badge.svg\" alt=\"Open In Colab\"/></a>"
      ]
    },
    {
      "cell_type": "markdown",
      "source": [
        "# 워드클라우드 만들기\n",
        "워드 클라우드를 만들어 보겠습니다.  \n",
        "wordcloud 라이브러리와 그림으로 표현해주기 위해 matplotlib 이 필요합니다.  \n",
        "구조는 간단합니다.  \n",
        "wordcloud 객체를 생성하고 텍스트를 넣어 생성한 후 matplolib으로 그려주면 됩니다.  \n",
        "다음과 같은 형태입니다.\n",
        "\n"
      ],
      "metadata": {
        "id": "X9hFs_nAGxR6"
      }
    },
    {
      "cell_type": "code",
      "execution_count": null,
      "metadata": {
        "id": "A9ofgaUYGZYm"
      },
      "outputs": [],
      "source": [
        "from wordcloud import WordCloud\n",
        "import matplotlib.pyplot as plt\n",
        "\n",
        "wc = WordCloud()\n",
        "wc.generate('''코로나19 변이 바이러스인 오미크론이 확산하면서 지난 주 전 세계적으로 기록된 신규 코로나19 사례 수가 전주 대비 11% 증가한 것으로 집계됐다고 세계보건기구(WHO)가 밝혔다. 또, 사망자 수는 전주 대비 4% 감소한 것으로 나타났다. \n",
        "28일(현지시간) AP통신에 따르면 WHO는 이달 20일~26일 주간 코로나19 보고서를 발간하고 이 기간, 전 세계적으로 약 499만건에 달하는 신규 사례가 보고됐다고 밝혔다. 유럽이 284만명으로 전체의 절반 이상을 차지했고 미주 지역이 148만명으로 그다음이었다. \n",
        "특히 미주 지역의 확산 속도가 빠른 것으로 나타났다. 미주 지역의 전주 대비 증가율은 39%였다. 유럽은 전주 대비 3% 증가했다. 인구 10만명 당 확진자 수는 유럽이 304.6명, 미주가 144.4명으로 나타났다. \n",
        "''')\n",
        "plt.imshow(wc) "
      ]
    },
    {
      "cell_type": "markdown",
      "source": [
        "네모로 보이는 이유는 폰트 문제 때문입니다.  \n",
        "다음과 같이 한글 폰트를 설정 및 지정하여 다시 실행해보겠습니다.  \n",
        "워드클라우드에서 한글을 사용하려면 폰트를 따로 지정해주어야 합니다.  \n",
        "다음과 같이 나눔폰트를 설치하여 사용하겠습니다."
      ],
      "metadata": {
        "id": "4sdfPYrZiZIb"
      }
    },
    {
      "cell_type": "code",
      "source": [
        "!apt-get install fonts-nanum*\n",
        "!apt-get install fontconfig"
      ],
      "metadata": {
        "id": "clW8jGmBGrGc"
      },
      "execution_count": null,
      "outputs": []
    },
    {
      "cell_type": "code",
      "source": [
        "FONT_PATH = '/usr/share/fonts/truetype/nanum/NanumGothic.ttf'\n",
        "wc = WordCloud(font_path=FONT_PATH)\n",
        "wc.generate('''코로나19 변이 바이러스인 오미크론이 확산하면서 지난 주 전 세계적으로 기록된 신규 코로나19 사례 수가 전주 대비 11% 증가한 것으로 집계됐다고 세계보건기구(WHO)가 밝혔다. 또, 사망자 수는 전주 대비 4% 감소한 것으로 나타났다. \n",
        "28일(현지시간) AP통신에 따르면 WHO는 이달 20일~26일 주간 코로나19 보고서를 발간하고 이 기간, 전 세계적으로 약 499만건에 달하는 신규 사례가 보고됐다고 밝혔다. 유럽이 284만명으로 전체의 절반 이상을 차지했고 미주 지역이 148만명으로 그다음이었다. \n",
        "특히 미주 지역의 확산 속도가 빠른 것으로 나타났다. 미주 지역의 전주 대비 증가율은 39%였다. 유럽은 전주 대비 3% 증가했다. 인구 10만명 당 확진자 수는 유럽이 304.6명, 미주가 144.4명으로 나타났다. \n",
        "''')\n",
        "plt.imshow(wc) \n",
        "plt.axis('off')  # 위그림과과 비교해보면 x y축의의 좌표가가 사라진것을 확인하실실 수 있습니다."
      ],
      "metadata": {
        "id": "MuWfx6wBkJsn"
      },
      "execution_count": null,
      "outputs": []
    },
    {
      "cell_type": "markdown",
      "source": [
        "이제 워드클라우드"
      ],
      "metadata": {
        "id": "FoWq0TKKIc_U"
      }
    },
    {
      "cell_type": "code",
      "source": [
        ""
      ],
      "metadata": {
        "id": "bittfZqikabQ"
      },
      "execution_count": null,
      "outputs": []
    }
  ]
}