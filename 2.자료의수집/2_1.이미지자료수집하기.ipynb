{
  "nbformat": 4,
  "nbformat_minor": 0,
  "metadata": {
    "colab": {
      "name": "2-1.이미지자료수집하기.ipynb",
      "private_outputs": true,
      "provenance": [],
      "authorship_tag": "ABX9TyPHGNGpLR19UaiolQJqWWIo",
      "include_colab_link": true
    },
    "kernelspec": {
      "name": "python3",
      "display_name": "Python 3"
    },
    "language_info": {
      "name": "python"
    }
  },
  "cells": [
    {
      "cell_type": "markdown",
      "metadata": {
        "id": "view-in-github",
        "colab_type": "text"
      },
      "source": [
        "<a href=\"https://colab.research.google.com/github/hwanys2/AI-math/blob/main/2.%EC%9E%90%EB%A3%8C%EC%9D%98%EC%88%98%EC%A7%91/2_1.%EC%9D%B4%EB%AF%B8%EC%A7%80%EC%9E%90%EB%A3%8C%EC%88%98%EC%A7%91%ED%95%98%EA%B8%B0.ipynb\" target=\"_parent\"><img src=\"https://colab.research.google.com/assets/colab-badge.svg\" alt=\"Open In Colab\"/></a>"
      ]
    },
    {
      "cell_type": "markdown",
      "source": [
        "# 셀레니움 설치하기\n",
        "셀레니움은 실제 인터넷브라우저를 작동시키며 정보를 수집하는 라이브러리 입니다.  \n",
        "하지만 colab은 클라우드pc를 사용하고 있어 웹브라우저 작동을 실제 볼 수 없습니다.  \n",
        "따라서 제대로 사용하기 위해서는 본인 PC에 파이썬을 설치하고 실습하는것이 좋습니다.  \n",
        "[1. 파이썬설치방법](https://proximal-stranger-fa0.notion.site/c312a11c932b49d38361097d7a0febdf)  \n",
        "[2. VScode설치방법](https://proximal-stranger-fa0.notion.site/VSCode-155a665a588f4911893f4df48ae2347e)  \n",
        "[3. 셀레니움 기본 사용법](https://proximal-stranger-fa0.notion.site/Selenium-b505390af22b40c3bcf7a10c60962d41)  \n",
        "[4. 셀레니움으로 네이버 이미지 다운로드하기](https://proximal-stranger-fa0.notion.site/93eba6de01a34de599748fb1d8f965de)  \n",
        "위의 과정을 따라하시면 PC에서 실습이 가능합니다.  \n",
        "그럼에도 colab에서 사용할 수 있는 방법으로 실습을 진행해보겠습니다.  \n",
        "**자세한 사항은 위 링크중 4. 셀레니움으로 네이버 이미지 다운로드하기를 참고하시면 되겠습니다.**  \n",
        "셀레니움은 colab에서 기본적으로 제공하는 라이브러리가 아닙니다.  \n",
        "따라서 다음과 같이 설치해주셔야 합니다."
      ],
      "metadata": {
        "id": "VDL_3ohEFPeP"
      }
    },
    {
      "cell_type": "code",
      "execution_count": null,
      "metadata": {
        "id": "mlUqhhNtAoi3"
      },
      "outputs": [],
      "source": [
        "!pip install Selenium\n",
        "!apt-get update # to update ubuntu to correctly run apt install\n",
        "!apt install chromium-chromedriver"
      ]
    },
    {
      "cell_type": "markdown",
      "source": [
        "이제 실행시켜 보겠습니다.  \n",
        "창을 직접 띄울 수 없기에 몇가지 옵션을 부가하며 실행시켜야 합니다.  \n",
        "다음과 같이 불러오고 실행시킵니다."
      ],
      "metadata": {
        "id": "TjuyKaHPG9we"
      }
    },
    {
      "cell_type": "code",
      "source": [
        "from selenium import webdriver\n",
        " \n",
        "chrome_options = webdriver.ChromeOptions()\n",
        "chrome_options.add_argument('--headless') #내부 창을 띄울 수 없으므로 설정\n",
        "chrome_options.add_argument('--no-sandbox')\n",
        "chrome_options.add_argument('--disable-dev-shm-usage')\n",
        "driver = webdriver.Chrome('chromedriver',chrome_options=chrome_options)\n",
        " \n",
        "driver.get(\"http://naver.com\")"
      ],
      "metadata": {
        "id": "hguCFI1SHHmm"
      },
      "execution_count": null,
      "outputs": []
    },
    {
      "cell_type": "markdown",
      "source": [
        "현재 naver에 접속한 상태입니다.  \n",
        "이를 이용하여 클릭, 키입력 등 우리가 실제로 웹브라우저를 통해 할 수 있는 일들을 대부분 진행할 수 있습니다.  \n",
        "하지만 실행 화면을 바로 확인할 수 없기에 코드를 실행하여 그 결과만 확인하도록 하겠습니다.\n",
        "# 이미지 페이지 이동하기\n",
        "네이버 이미지 주소는 다음과 같은 형태로 구성되어 있습니다.  \n",
        "ttps://search.naver.com/search.naver?where=image&sm=tab_jum&query=**검색어**  \n",
        "검색어 위치에 찾고자 하는 이미지의 검색어를 넣어주면 해당 페이지로 이동하게 됩니다.  \n",
        "한 번 이동해 보겠습니다."
      ],
      "metadata": {
        "id": "T7FJ3N4OHPNG"
      }
    },
    {
      "cell_type": "code",
      "source": [
        "driver.get(\"https://search.naver.com/search.naver?where=image&sm=tab_jum&query={}\".format('강아지'))"
      ],
      "metadata": {
        "id": "V1y4fzGYHNP3"
      },
      "execution_count": null,
      "outputs": []
    },
    {
      "cell_type": "markdown",
      "source": [
        "실행시켜도 아무변화가 보이지 않지만 현재 네이버이미지에서 강아지를 검색한 상황입니다.  \n",
        "# 스크롤내리기\n",
        "이미지 검색을하게 되면 더 많은 이미지를 보기 위해서 스크롤을 내려야 하는 상황을 경험해보셨을 겁니다.  \n",
        "많은 이미지를 한 꺼번에 받기 위해 스크롤을 내려줘야 합니다.  \n",
        "이역시 colab에서는 눈으로 확인되진 않습니다.  \n",
        "하지만 다음과 같이 실행하면 스크롤을 내리게 됩니다."
      ],
      "metadata": {
        "id": "e4j2elbOIo70"
      }
    },
    {
      "cell_type": "code",
      "source": [
        "import time\n",
        "## 현재 스크롤의 위치를 확인하여 prev_height에 담습니다. \n",
        "prev_height = driver.execute_script(\"return document.body.scrollHeight\")\n",
        "\n",
        "# 웹페이지 맨 아래까지 무한 스크롤\n",
        "while True:\n",
        "    # 스크롤을 화면 가장 아래로 내린다\n",
        "    driver.execute_script(\"window.scrollTo(0,document.body.scrollHeight)\")\n",
        "    # 페이지 로딩 대기\n",
        "    time.sleep(2)\n",
        "    # 현재 문서 높이를 가져와서 저장\n",
        "    curr_height = driver.execute_script(\"return document.body.scrollHeight\")\n",
        "    if(curr_height == prev_height):   # 스크롤을 내렸음에도 이전 높이와 동일하다면 다 내린 것이기 때문에 break.\n",
        "        break\n",
        "    else:\n",
        "        prev_height = driver.execute_script(\"return document.body.scrollHeight\")"
      ],
      "metadata": {
        "id": "VK4TP9Z_IkyX"
      },
      "execution_count": null,
      "outputs": []
    },
    {
      "cell_type": "markdown",
      "source": [
        "# 이미지 링크가져오기\n",
        "이제 이미지의 링크들을 받아오겠습니다.  \n",
        "각 이미지를 찾아가는 여러가지 방법이 있으나 xpath를 이용하는 방법을 사용하겠습니다. "
      ],
      "metadata": {
        "id": "5Ja2ntufJG2M"
      }
    },
    {
      "cell_type": "code",
      "source": [
        "images = driver.find_elements_by_xpath('//*[@id=\"main_pack\"]/section/div/div[1]/div[1]/div/div/div[1]/a/img')\n",
        "\n",
        "img_url = []\n",
        "for image in images:\n",
        "    url = image.get_attribute('src')\n",
        "    img_url.append(url)\n",
        "img_url"
      ],
      "metadata": {
        "id": "mIlzpLmTJD9l"
      },
      "execution_count": null,
      "outputs": []
    },
    {
      "cell_type": "markdown",
      "source": [
        "이제 뭔가 출력되었습니다. 위 중 파란색으로 링크가 뜬 것들이 이미지의 주소들입니다.  \n",
        "이제 이 주소들을 파일로 다운로드 하면 됩니다.\n",
        "# 이미지 저장하기\n",
        "colab 왼쪽에 폴더보먕을 클릭하면 현재 파일이 사용하는 파일 공간이 보입니다.  \n",
        "여기에 다운로드하도록 하겠습니다.  \n",
        "우선 다운로드하기 위해 강아지_img 라는 폴더를 만들겠습니다."
      ],
      "metadata": {
        "id": "HrKl5NooJjFf"
      }
    },
    {
      "cell_type": "code",
      "source": [
        "import os\n",
        "img_folder = '/content/강아지_img'    \n",
        "if not os.path.isdir(img_folder) : # 없으면 새로 생성하는 조건문 \n",
        "    os.mkdir(img_folder)"
      ],
      "metadata": {
        "id": "2v2ddfaeJhgg"
      },
      "execution_count": null,
      "outputs": []
    },
    {
      "cell_type": "markdown",
      "source": [
        "왼쪽 창에서 폴더 새로고침을 하면 강아지_img폴더가 생성된 것을 확인할 수 있습니다.  \n",
        "이제 파일을 저장해보겠습니다.  \n",
        "저장을 원하는 숫자를 입력받고 이 숫자만큼 저장해보겠습니다.  \n",
        "위에서 이미지 링크를 가져올 때, 링크가 아닌 것들도 함께 가져와져 오류가 발생할 수 있습니다.  \n",
        "이 오류를 피하기 위해 try: except: 구문을 활용합니다.  \n",
        "try: 에서 오류가 발생하더라도 프로그램을 종료시키지 않고 except로 넘어가 계속 진행되도록 하는 문장입니다."
      ],
      "metadata": {
        "id": "7yqq3jRvKgd-"
      }
    },
    {
      "cell_type": "code",
      "source": [
        "import requests\n",
        "want_num = 30     ### 다운받고 싶은 이미지 갯수\n",
        "photo_num = 0     ### 파일이름에 숫자를 입력하기 위해 카운팅 및 다운 받은 숫자를 세기 위해.\n",
        "for url in img_url :\n",
        "    try:\n",
        "        img_data = requests.get(url).content\n",
        "        photo_num += 1\n",
        "        with open(img_folder + '/{}.jpg'.format(photo_num), 'wb') as handler:\n",
        "            handler.write(img_data)\n",
        "            print(photo_num, '번째 파일 저장 완료')\n",
        "    except:\n",
        "        pass\n",
        "    if photo_num == want_num:       # 원하는 파일의 갯수만큼 다운로드 완료하면 중지합니다.\n",
        "        break\n",
        "driver.quit()    # 프로그램 종료"
      ],
      "metadata": {
        "id": "AtPKeKrTKVW4"
      },
      "execution_count": null,
      "outputs": []
    },
    {
      "cell_type": "markdown",
      "source": [
        "강아지_img 폴더를 열어보시면 30장의 사진이 저장된 것을 확인하실 수 있습니다.  \n",
        "다른 이미지를 찾는데 한 번에 활용하시고 싶으시면 아래의 코드를 사용하시면 **검색키워드**와 **다운로드받을 이미지 개수**를 입력받아 다운로드 받을 수 있습니다. 한 번 실행해 보시기 바랍니다."
      ],
      "metadata": {
        "id": "7K7u9_qoK0RF"
      }
    },
    {
      "cell_type": "code",
      "source": [
        "from selenium import webdriver\n",
        "import requests\n",
        "import time \n",
        "import os \n",
        "\n",
        "keyword = input('어떤 이미지를 다운로드 받고 싶으신가요?')\n",
        "want_num = int(input('몇 장의 이미지를 다운로드 받고 싶으신가요?'))\n",
        "\n",
        "chrome_options = webdriver.ChromeOptions()\n",
        "chrome_options.add_argument('--headless') #내부 창을 띄울 수 없으므로 설정\n",
        "chrome_options.add_argument('--no-sandbox')\n",
        "chrome_options.add_argument('--disable-dev-shm-usage')\n",
        "driver = webdriver.Chrome('chromedriver',chrome_options=chrome_options)\n",
        "\n",
        "driver.get(\"https://search.naver.com/search.naver?where=image&sm=tab_jum&query={}\".format(keyword))\n",
        "\n",
        "## 현재 스크롤의 위치를 확인하여 prev_height에 담습니다. \n",
        "prev_height = driver.execute_script(\"return document.body.scrollHeight\")\n",
        "\n",
        "# 웹페이지 맨 아래까지 무한 스크롤\n",
        "while True:\n",
        "    # 스크롤을 화면 가장 아래로 내린다\n",
        "    driver.execute_script(\"window.scrollTo(0,document.body.scrollHeight)\")\n",
        "    print('스크롤을 내리고 있습니다. 잠시만 기다려주세요.')\n",
        "    # 페이지 로딩 대기\n",
        "    time.sleep(2)\n",
        "    # 현재 문서 높이를 가져와서 저장\n",
        "    curr_height = driver.execute_script(\"return document.body.scrollHeight\")\n",
        "    if(curr_height == prev_height):   # 스크롤을 내렸음에도 이전 높이와 동일하다면 다 내린 것이기 때문에 break.\n",
        "        break\n",
        "    else:\n",
        "        prev_height = driver.execute_script(\"return document.body.scrollHeight\")\n",
        "\n",
        "images = driver.find_elements_by_xpath('//*[@id=\"main_pack\"]/section/div/div[1]/div[1]/div/div/div[1]/a/img')\n",
        "\n",
        "img_url = []\n",
        "print('이미지 url 정보를 가져오기 시작합니다.')\n",
        "for image in images:\n",
        "    url = image.get_attribute('src')\n",
        "    img_url.append(url)\n",
        "\n",
        "print(f'{keyword}_img 폴더를 만들고 다운로드를 시작합니다.')\n",
        "img_folder = f'/content/{keyword}_img'    \n",
        "if not os.path.isdir(img_folder) : # 없으면 새로 생성하는 조건문 \n",
        "    os.mkdir(img_folder)\n",
        "\n",
        "photo_num = 0     ### 파일이름에 숫자를 입력하기 위해 카운팅 및 다운 받은 숫자를 세기 위해.\n",
        "for url in img_url :\n",
        "    try:\n",
        "        img_data = requests.get(url).content\n",
        "        photo_num += 1\n",
        "        with open(img_folder + '/{}.jpg'.format(photo_num), 'wb') as handler:\n",
        "            handler.write(img_data)\n",
        "            print(photo_num, '번째 파일 저장 완료')\n",
        "    except:\n",
        "        pass\n",
        "    if photo_num == want_num:       # 원하는 파일의 갯수만큼 다운로드 완료하면 중지합니다.\n",
        "        break"
      ],
      "metadata": {
        "id": "gSgRTcJ0MDyV"
      },
      "execution_count": null,
      "outputs": []
    }
  ]
}