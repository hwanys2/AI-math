{
  "nbformat": 4,
  "nbformat_minor": 0,
  "metadata": {
    "colab": {
      "name": "1-2.뉴스제목받아오기,.ipynb",
      "private_outputs": true,
      "provenance": [],
      "authorship_tag": "ABX9TyP7KWtXUyVtu+6MwaaC95b/",
      "include_colab_link": true
    },
    "kernelspec": {
      "name": "python3",
      "display_name": "Python 3"
    },
    "language_info": {
      "name": "python"
    }
  },
  "cells": [
    {
      "cell_type": "markdown",
      "metadata": {
        "id": "view-in-github",
        "colab_type": "text"
      },
      "source": [
        "<a href=\"https://colab.research.google.com/github/hwanys2/AI-math/blob/main/2.%EC%9E%90%EB%A3%8C%EC%9D%98%EC%88%98%EC%A7%91/1_2.%EB%89%B4%EC%8A%A4%EC%A0%9C%EB%AA%A9%EB%AA%A8%EC%95%84%EC%98%A4%EA%B8%B0%2C.ipynb\" target=\"_parent\"><img src=\"https://colab.research.google.com/assets/colab-badge.svg\" alt=\"Open In Colab\"/></a>"
      ]
    },
    {
      "cell_type": "code",
      "execution_count": null,
      "metadata": {
        "id": "zyQKpIky3_Df"
      },
      "outputs": [],
      "source": [
        ""
      ]
    }
  ]
}