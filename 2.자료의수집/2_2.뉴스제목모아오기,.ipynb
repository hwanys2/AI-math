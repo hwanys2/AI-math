{
  "nbformat": 4,
  "nbformat_minor": 0,
  "metadata": {
    "colab": {
      "name": "2-2.뉴스제목모아오기,.ipynb",
      "private_outputs": true,
      "provenance": [],
      "authorship_tag": "ABX9TyO0sER/iyNm0y+kKpFL+eHb",
      "include_colab_link": true
    },
    "kernelspec": {
      "name": "python3",
      "display_name": "Python 3"
    },
    "language_info": {
      "name": "python"
    }
  },
  "cells": [
    {
      "cell_type": "markdown",
      "metadata": {
        "id": "view-in-github",
        "colab_type": "text"
      },
      "source": [
        "<a href=\"https://colab.research.google.com/github/hwanys2/AI-math/blob/main/2.%EC%9E%90%EB%A3%8C%EC%9D%98%EC%88%98%EC%A7%91/2_2.%EB%89%B4%EC%8A%A4%EC%A0%9C%EB%AA%A9%EB%AA%A8%EC%95%84%EC%98%A4%EA%B8%B0%2C.ipynb\" target=\"_parent\"><img src=\"https://colab.research.google.com/assets/colab-badge.svg\" alt=\"Open In Colab\"/></a>"
      ]
    },
    {
      "cell_type": "markdown",
      "source": [
        "#다음 뉴스 제목 정보 가져오기\n",
        "지난 자료에 이어 셀레니움을 이용하여 뉴스제목들을 모아 텍스트 자료를 수집해보겠습니다.  \n",
        "셀레니움 설치 및 import하는 것 까지는 동일하게 아래 셀을 실행시켜 진행하겠습니다."
      ],
      "metadata": {
        "id": "6iZbuuAu4ngX"
      }
    },
    {
      "cell_type": "code",
      "execution_count": null,
      "metadata": {
        "id": "zyQKpIky3_Df"
      },
      "outputs": [],
      "source": [
        "!pip install Selenium\n",
        "!apt-get update # to update ubuntu to correctly run apt install\n",
        "!apt install chromium-chromedriver\n",
        "\n",
        "from selenium import webdriver\n",
        " \n",
        "chrome_options = webdriver.ChromeOptions()\n",
        "chrome_options.add_argument('--headless') #내부 창을 띄울 수 없으므로 설정\n",
        "chrome_options.add_argument('--no-sandbox')\n",
        "chrome_options.add_argument('--disable-dev-shm-usage')\n",
        "driver = webdriver.Chrome('chromedriver',chrome_options=chrome_options)"
      ]
    },
    {
      "cell_type": "markdown",
      "source": [
        "가지고 올 뉴스 제목은 \n",
        "[다음 뉴스 페이지](https://news.daum.net/breakingnews/)에 있는 최신 뉴스들을 받아보려고 합니다.  \n",
        "셀레니움을 이용하여 우선 이 웹페이지에 접속하겠습니다."
      ],
      "metadata": {
        "id": "8dXWFTEG5xzK"
      }
    },
    {
      "cell_type": "code",
      "source": [
        "driver.get('https://news.daum.net/breakingnews/')"
      ],
      "metadata": {
        "id": "YM4g9QYD5BQk"
      },
      "execution_count": null,
      "outputs": []
    },
    {
      "cell_type": "markdown",
      "source": [
        "뉴스 타이틀에 해당하는 xpath를 찾아 접근해 보겠습니다.  \n",
        "자세한 방법은 [네이버이미지다운로드방법](https://proximal-stranger-fa0.notion.site/93eba6de01a34de599748fb1d8f965de)을 확인하시기 바랍니다.  \n",
        "/html/body/div[2]/div[3]/div/div[1]/div[2]/ul/**li[1]**/div/strong/a  \n",
        "/html/body/div[2]/div[3]/div/div[1]/div[2]/ul/**li[2]**/div/strong/a  \n",
        "서로다른 제목 타이틀의 xpath를 복사해보니 li태그의 숫자만 바뀌면 될 것같습니다.  \n",
        "따라서 저 구조의 모든 li태그를 찾아오겠습니다.  \n",
        "다음과 같은 요소를 찾으면 됩니다.\n",
        "//*[@id=\"mArticle\"]/div[2]/ul/**li**/div/strong/a"
      ],
      "metadata": {
        "id": "6o6YBD3H6QDH"
      }
    },
    {
      "cell_type": "markdown",
      "source": [
        ""
      ],
      "metadata": {
        "id": "3BramR387aYp"
      }
    },
    {
      "cell_type": "code",
      "source": [
        "title_elements = driver.find_elements_by_xpath('//*[@id=\"mArticle\"]/div[2]/ul/li/div/strong/a')\n",
        "title_elements"
      ],
      "metadata": {
        "id": "Ckxvi1UM6OvY"
      },
      "execution_count": null,
      "outputs": []
    },
    {
      "cell_type": "markdown",
      "source": [
        "이제 텍스트 정보를 가져와 보겠습니다.  \n",
        "get_attribute(\"textContent\") 명령어를 통해 받아 올 수 있습니다.  \n",
        "for 문을 돌려가며 제목을 한 번 출력해보겠습니다."
      ],
      "metadata": {
        "id": "idXweGzv7sz9"
      }
    },
    {
      "cell_type": "code",
      "source": [
        "for title_element in title_elements:\n",
        "    title = title_element.get_attribute(\"textContent\")\n",
        "    print(title)"
      ],
      "metadata": {
        "id": "0iCGBr-E7zyg"
      },
      "execution_count": null,
      "outputs": []
    },
    {
      "cell_type": "markdown",
      "source": [
        "제목이 잘 출력되는 것을 확인 할 수 있습니다.\n",
        "\n",
        "이제 더 많은 데이터를 모으기 위해 여러페이지의 텍스트 정보를 가져와 보도록 하겠습니다.  \n",
        "페이지를 넘긴 후에 주소를 살펴보면  \n",
        "news.daum.net/breakingnews/?**page=2**  "
      ],
      "metadata": {
        "id": "zO7LYjXA7-S_"
      }
    },
    {
      "cell_type": "code",
      "source": [
        ""
      ],
      "metadata": {
        "id": "PkRq_NFH8Dwt"
      },
      "execution_count": null,
      "outputs": []
    }
  ]
}