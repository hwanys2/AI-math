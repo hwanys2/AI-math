{
  "nbformat": 4,
  "nbformat_minor": 0,
  "metadata": {
    "colab": {
      "name": "1-3.Matplotlib그래프그리기.ipynb",
      "provenance": [],
      "collapsed_sections": [],
      "include_colab_link": true
    },
    "kernelspec": {
      "name": "python3",
      "display_name": "Python 3"
    },
    "language_info": {
      "name": "python"
    }
  },
  "cells": [
    {
      "cell_type": "markdown",
      "metadata": {
        "id": "view-in-github",
        "colab_type": "text"
      },
      "source": [
        "<a href=\"https://colab.research.google.com/github/hwanys2/AI-math/blob/main/1.%ED%8C%8C%EC%9D%B4%EC%8D%AC%EA%B8%B0%EB%B3%B8%EA%B8%B0%EB%8A%A5/1_3_Matplotlib%EA%B7%B8%EB%9E%98%ED%94%84%EA%B7%B8%EB%A6%AC%EA%B8%B0.ipynb\" target=\"_parent\"><img src=\"https://colab.research.google.com/assets/colab-badge.svg\" alt=\"Open In Colab\"/></a>"
      ]
    },
    {
      "cell_type": "markdown",
      "metadata": {
        "id": "zEhbPvWkkLsD"
      },
      "source": [
        "# Matplotlib 활용하기\n",
        "그래프를 그리기 위해서 matplotlib을 사용해 보겠습니다.  \n",
        "다음과 같이 import 합니다.\n"
      ]
    },
    {
      "cell_type": "code",
      "metadata": {
        "id": "4UMArAJzk67R"
      },
      "source": [
        "import matplotlib.pyplot as plt"
      ],
      "execution_count": null,
      "outputs": []
    },
    {
      "cell_type": "markdown",
      "source": [
        "새로운것이 보이죠? as 가 등장합니다.  \n",
        "일반적으로 import 하게 되면 import한 대상을먼저 입력한 후에 . 을 찍어 해당 라이브러리에 있는 함수를 사용해야 합니다.  \n",
        "\n",
        "\n",
        "```\n",
        "import matplotlib.pyplot\n",
        "```\n",
        "\n",
        "만약 이렇게 import 한다면 다음에 위 라이브러리에서 제공하는 명령어를 입력하기 위해서는  \n",
        "\n",
        "\n",
        "```\n",
        "matplotlib.pyplot.(명령어)\n",
        "```\n",
        "와 같은 형태로 입력해야 해서 굉장히 길어집니다. 이때 as로 간단하게 입력할 수 있게 해줍니다.  \n",
        "\n",
        "즉 matplotlib.pyplot 을 plt로 줄여 쓰겠다는 의미로 plt를 다른 문자로 사용할수도 있습니다.  \n",
        "하지만 일반적으로 라이브러리 개발자가 제시하는 단축어를 쓰는 것이 좋습니다. matplotlib은 plt로 줄여씁니다.  \n",
        "이를 바탕으로 그래프를 그려보겠습니다.  \n",
        "여러가지 그래프를 지원하는데 우선 plot 을 이용해보겠습니다.  \n",
        "plot은 점들을 선으로 잇는 그래프를 나타냅니다.  \n",
        "plt.plot(x좌표리스트, y좌표리스트) 형태로 입력하면 됩니다.  \n",
        "이걸 바탕으로 다음을 실행시켜 확인해보세요.\n",
        "\n"
      ],
      "metadata": {
        "id": "EMEXtsZgtdpZ"
      }
    },
    {
      "cell_type": "code",
      "metadata": {
        "id": "xNtJ-_ualOZK"
      },
      "source": [
        "plt.plot([1, 2, 3, 4], [1, 4, 9, 16])"
      ],
      "execution_count": null,
      "outputs": []
    },
    {
      "cell_type": "markdown",
      "source": [
        "점들을 나타내는 명령어는 scatter 입니다. 다음과 같습니다."
      ],
      "metadata": {
        "id": "gVCPjPLzu1HT"
      }
    },
    {
      "cell_type": "code",
      "metadata": {
        "id": "KTQDyxwflRy-"
      },
      "source": [
        "plt.scatter([1, 2, 3, 4], [1, 4, 9, 16])"
      ],
      "execution_count": null,
      "outputs": []
    },
    {
      "cell_type": "markdown",
      "source": [
        "두 가지를 동시에 나타낼 수도 있습니다."
      ],
      "metadata": {
        "id": "FlCT8hASvApi"
      }
    },
    {
      "cell_type": "code",
      "source": [
        "plt.plot([1, 2, 3, 4], [1, 4, 9, 16])\n",
        "plt.scatter([1, 2, 3, 4], [1, 4, 9, 16])"
      ],
      "metadata": {
        "id": "62ByEo59vHmo"
      },
      "execution_count": null,
      "outputs": []
    },
    {
      "cell_type": "markdown",
      "source": [
        "이제 그래프에 제목을 입력해보겠습니다.  \n",
        "title 이라는 명령어로 가능합니다."
      ],
      "metadata": {
        "id": "TzUafC4avG6z"
      }
    },
    {
      "cell_type": "code",
      "source": [
        "plt.title(\"제목입력\", fontsize=16)\n",
        "plt.plot([1, 2, 3, 4], [1, 4, 9, 16])"
      ],
      "metadata": {
        "id": "ACmcPPzQu6b9"
      },
      "execution_count": null,
      "outputs": []
    },
    {
      "cell_type": "markdown",
      "source": [
        "아마 알지못할 에러메세지와 함께 그래프 윗부분에 네모모양으로 제목이 들어갈 부분이 깨져있는 것을 보실 수 있을 겁니다.  \n",
        "이는 한글폰트가 지원되지 않아 발생한 문제입니다. 위 코드의 '제목입력'을 'title' 등 영어로 바꾸면 잘 나오는 것을 확인할 수 있을 겁니다.  \n",
        "그럼 한글을 어떻게 해야 할까요? 이럴때 구글 검색창에 입력하면 그 해법을 쉽게 찾을 수 있습니다.  \n",
        "아래와 같이 해주시면됩니다. 아래 명령어는 나눔폰트를 설치하는 과정입니다.  \n",
        "아래 셀을 실행시키고  \n",
        "상단에 메뉴바에 런타임 - 런타임 초기화를 누른 후 다음으로 넘어가겠습니다.\n"
      ],
      "metadata": {
        "id": "0YmkdR3lvTBX"
      }
    },
    {
      "cell_type": "code",
      "metadata": {
        "id": "13Of_2kPsdj2"
      },
      "source": [
        "!sudo apt-get install -y fonts-nanum\n",
        "!sudo fc-cache -fv\n",
        "!rm ~/.cache/matplotlib -rf\n",
        "# 런타임 재시작"
      ],
      "execution_count": null,
      "outputs": []
    },
    {
      "cell_type": "markdown",
      "source": [
        "이제 한글이 잘 사용되는지 살펴보겠습니다.  \n",
        "plt.rc로 다양한 설정들을 할수 있습니다. 그 중 font도 지정가능합니다. 아래와 같이 지정하고  \n",
        "그래프를 그려보겠습니다."
      ],
      "metadata": {
        "id": "x7Mm7WvHv8cl"
      }
    },
    {
      "cell_type": "code",
      "metadata": {
        "id": "_VMmj54YsiIb"
      },
      "source": [
        "import matplotlib.pyplot as plt\n",
        "plt.rc('font', family='NanumBarunGothic') \n",
        "plt.scatter([1, 2, 3, 4], [1, 4, 9, 16])\n",
        "plt.title(\"인공지능 수학 성적\", fontsize=16)\n",
        "plt.plot([1, 2, 3, 4], [1, 4, 9, 16])"
      ],
      "execution_count": null,
      "outputs": []
    },
    {
      "cell_type": "markdown",
      "metadata": {
        "id": "ZZeLyrg-lN2H"
      },
      "source": [
        "\n",
        "\n",
        "---\n",
        "\n",
        "\n",
        "\n",
        "---\n",
        "\n",
        "\n",
        "\n",
        "---\n",
        "\n"
      ]
    },
    {
      "cell_type": "markdown",
      "metadata": {
        "id": "O1rXerd6lnDU"
      },
      "source": [
        "\n",
        "# 동전던지기 그래프를 통한 matplotlib 실습\n",
        "\n",
        "앞서 구해보았던 상대도수를 그래프로 나타내 보도록 하겠습니다.\n",
        "\n",
        "출력하는 대신 상대도수라는 리스트를 만들어 그 값을 추가하는 형태로 변경되었습니다."
      ]
    },
    {
      "cell_type": "code",
      "metadata": {
        "id": "h7CVtwM8hPzd"
      },
      "source": [
        "import random\n",
        "\n",
        "앞면횟수 = 0                            # 앞면이 나온 횟수를 세야하기 때문에 변수로 지정하고 아직 0회이므로 0을 넣습니다.\n",
        "상대도수 = []\n",
        "for i in range(1000):                  # 200번 반복합니다.\n",
        "    결과 = random.choice([\"앞면\", \"뒷면\"])      # random.choice를 이용하여 동전을 던집니다.\n",
        "    if 결과 == \"앞면\":                    # 앞면이 나오면 앞면횟수에 1을 더하기 위한 if 문, 띄워쓰기 주의 \n",
        "        앞면횟수 = 앞면횟수 +1\n",
        "    상대도수.append(앞면횟수/(i+1))\n",
        "print(상대도수)"
      ],
      "execution_count": null,
      "outputs": []
    },
    {
      "cell_type": "markdown",
      "source": [
        "상대도수에 담긴 데이터를 그래프로 나타내보도록 하겠습니다."
      ],
      "metadata": {
        "id": "AYEhFmbJwVYQ"
      }
    },
    {
      "cell_type": "code",
      "metadata": {
        "id": "Z-lbzjFbh8Kh"
      },
      "source": [
        "# 그래프 그리기\n",
        "plt.plot(상대도수)"
      ],
      "execution_count": null,
      "outputs": []
    },
    {
      "cell_type": "markdown",
      "source": [
        "타이틀을 추가해 보겠습니다."
      ],
      "metadata": {
        "id": "yvF8oPyQwZAI"
      }
    },
    {
      "cell_type": "code",
      "metadata": {
        "id": "V53k4rv8iRK_"
      },
      "source": [
        "# 그래프에 타이틀 추가하기\n",
        "plt.title(\"동전을 던져서 앞면이 나올 상대도수\", fontsize=16)\n",
        "plt.plot(상대도수)"
      ],
      "execution_count": null,
      "outputs": []
    },
    {
      "cell_type": "markdown",
      "source": [
        "x축과 y축에 이름을 붙여보겠습니다.  \n",
        "xlabel, ylabel을 사용합니다."
      ],
      "metadata": {
        "id": "fAElk6gowbm9"
      }
    },
    {
      "cell_type": "code",
      "metadata": {
        "id": "ch9bANdEmnPc"
      },
      "source": [
        "# 그래프에 x축 y축 제목추가하기\n",
        "plt.title(\"동전을 던져서 앞면이 나올 상대도수\", fontsize=16)\n",
        "plt.xlabel(\"던진횟수\", fontsize=12)\n",
        "plt.ylabel(\"상대도수\", fontsize=12)\n",
        "plt.plot(상대도수)"
      ],
      "execution_count": null,
      "outputs": []
    },
    {
      "cell_type": "markdown",
      "source": [
        "그래프에 수평선을 그려보도록 하겠습니다.  \n",
        "이외에도   \n",
        "- axhline(): 축을 따라 수평선을 표시합니다.\n",
        "- axvline(): 축을 따라 수직선을 표시합니다.\n",
        "- hlines(): 지정한 점을 따라 수평선을 표시합니다.\n",
        "- vlines(): 지정한 점을 따라 수직선을 표시합니다.\n",
        "와 같은 방법으로 표현할 수 있습니다."
      ],
      "metadata": {
        "id": "marW5PJuwiDR"
      }
    },
    {
      "cell_type": "code",
      "metadata": {
        "id": "ve8AhmbNm5l9"
      },
      "source": [
        "# 그래프에 0.5 수직선 그려보기\n",
        "plt.title(\"동전을 던져서 앞면이 나올 상대도수\", fontsize=16)\n",
        "plt.xlabel(\"던진횟수\", fontsize=12)\n",
        "plt.ylabel(\"상대도수\", fontsize=12)\n",
        "plt.axhline(0.5, color='red', linestyle='--', linewidth='1')\n",
        "plt.plot(상대도수)"
      ],
      "execution_count": null,
      "outputs": []
    },
    {
      "cell_type": "markdown",
      "source": [
        "그래프를 그릴 범위도 설정 가능합니다.  \n",
        "\n",
        "\n",
        "```\n",
        "plt.axis([x좌표시작,x좌표끝,y좌표시작,y좌표끝])\n",
        "```\n",
        "과 같이 입력합니다.\n"
      ],
      "metadata": {
        "id": "xP7J1PQAw7Ay"
      }
    },
    {
      "cell_type": "code",
      "metadata": {
        "id": "TRAajXHeniWP"
      },
      "source": [
        "# 그래프에 그릴 범위 정하기\n",
        "plt.title(\"동전을 던져서 앞면이 나올 상대도수\", fontsize=16)\n",
        "plt.xlabel(\"던진횟수\", fontsize=12)\n",
        "plt.ylabel(\"상대도수\", fontsize=12)\n",
        "plt.axhline(0.5, color='red', linestyle='--', linewidth='1')\n",
        "plt.axis([0, 1000, 0.4, 0.6])\n",
        "plt.plot(상대도수)"
      ],
      "execution_count": null,
      "outputs": []
    },
    {
      "cell_type": "markdown",
      "source": [
        "모눈을 추가해보겠습니다.\n",
        "\n",
        "\n",
        "```\n",
        "plt.grid(True)\n",
        "```\n",
        "를 추가합니다.\n"
      ],
      "metadata": {
        "id": "5EQH-zNWxJrN"
      }
    },
    {
      "cell_type": "code",
      "metadata": {
        "id": "tkw4h0HmoAKP"
      },
      "source": [
        "# 그래프에 모눈 추가하기\n",
        "plt.title(\"동전을 던져서 앞면이 나올 상대도수\", fontsize=16)\n",
        "plt.xlabel(\"던진횟수\", fontsize=12)\n",
        "plt.ylabel(\"상대도수\", fontsize=12)\n",
        "plt.axhline(0.5, color='red', linestyle='--', linewidth='1')\n",
        "plt.axis([0, 1000, 0.4, 0.6])\n",
        "plt.grid(True)\n",
        "plt.plot(상대도수)"
      ],
      "execution_count": null,
      "outputs": []
    },
    {
      "cell_type": "markdown",
      "source": [
        "다음과 같이 가로 세로 값을 설정하여 가로 세로 비율을 결정할 수 있습니다.\n",
        "\n",
        "```\n",
        "plt.rcParams[\"figure.figsize\"] = (가로,세로)\n",
        "```\n",
        "\n"
      ],
      "metadata": {
        "id": "tDBz7n5AxTvo"
      }
    },
    {
      "cell_type": "code",
      "metadata": {
        "id": "wYKMTVW3p5dw"
      },
      "source": [
        "# 그래프 크기 변경하기\n",
        "plt.title(\"동전을 던져서 앞면이 나올 상대도수\", fontsize=16)\n",
        "plt.xlabel(\"던진횟수\", fontsize=12)\n",
        "plt.ylabel(\"상대도수\", fontsize=12)\n",
        "plt.axhline(0.5, color='red', linestyle='--', linewidth='1')\n",
        "plt.axis([0, 1000, 0.4, 0.6])\n",
        "plt.grid(True)\n",
        "plt.rcParams[\"figure.figsize\"] = (6,4)\n",
        "plt.plot(상대도수)"
      ],
      "execution_count": null,
      "outputs": []
    },
    {
      "cell_type": "markdown",
      "metadata": {
        "id": "tMlp4WH1uzv7"
      },
      "source": [
        "\n",
        "\n",
        "---\n",
        "\n",
        "\n",
        "\n",
        "---\n",
        "\n"
      ]
    },
    {
      "cell_type": "markdown",
      "metadata": {
        "id": "DXgLI9uPuigt"
      },
      "source": [
        "### 실습\n",
        "앞선 과제에서 했던 주사위의 1의 눈이 나올 상대도수를 그래프로 나타내보세요."
      ]
    },
    {
      "cell_type": "code",
      "metadata": {
        "id": "m6UV99-uLD2p"
      },
      "source": [
        ""
      ],
      "execution_count": null,
      "outputs": []
    },
    {
      "cell_type": "markdown",
      "metadata": {
        "id": "40o7wbPDu01F"
      },
      "source": [
        "\n",
        "\n",
        "---\n",
        "\n",
        "\n",
        "\n",
        "---\n",
        "\n"
      ]
    },
    {
      "cell_type": "markdown",
      "metadata": {
        "id": "HRA03Eywpi6y"
      },
      "source": [
        "이외에도 히스토그램, 원그래프, 막대그래프, 3차원그래프 등 다양한 그래프를 그릴 수 있습니다.  \n",
        "다음사이트를 참고하시면 도움을 받을 수 있습니다.\n",
        "# 참고사이트\n",
        "\n",
        "외부라이브러리는 개발사 공식홈페이지에서 확인하는 것이 가장 정확하고 많은 정보를 담고 있지만 대부분 영어로 되어 있다.\n",
        "\n",
        "많이 사용하는 라이브러리는 그 설명이 인터넷에 잘 정리해 둔 곳이 많이 있으니 검색해 보는 것이 좋다.\n",
        "\n",
        "matplotlib 기본적인 내용은 아래의 사이트를 추천한다.\n",
        "\n",
        "\n",
        "[Matplotlib Tutorial - 파이썬으로 데이터 시각화하기](https://wikidocs.net/book/5011)"
      ]
    },
    {
      "cell_type": "code",
      "source": [
        ""
      ],
      "metadata": {
        "id": "g5Wnoefnxx6x"
      },
      "execution_count": null,
      "outputs": []
    }
  ]
}