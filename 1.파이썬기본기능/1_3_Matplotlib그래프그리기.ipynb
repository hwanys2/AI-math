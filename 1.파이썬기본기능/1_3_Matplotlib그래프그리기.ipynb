{
  "nbformat": 4,
  "nbformat_minor": 0,
  "metadata": {
    "colab": {
      "name": "1-3.Matplotlib그래프그리기.ipynb",
      "provenance": [],
      "collapsed_sections": [],
      "include_colab_link": true
    },
    "kernelspec": {
      "name": "python3",
      "display_name": "Python 3"
    },
    "language_info": {
      "name": "python"
    }
  },
  "cells": [
    {
      "cell_type": "markdown",
      "metadata": {
        "id": "view-in-github",
        "colab_type": "text"
      },
      "source": [
        "<a href=\"https://colab.research.google.com/github/hwanys2/AI-math/blob/main/1.%ED%8C%8C%EC%9D%B4%EC%8D%AC%EA%B8%B0%EB%B3%B8%EA%B8%B0%EB%8A%A5/1_3_Matplotlib%EA%B7%B8%EB%9E%98%ED%94%84%EA%B7%B8%EB%A6%AC%EA%B8%B0.ipynb\" target=\"_parent\"><img src=\"https://colab.research.google.com/assets/colab-badge.svg\" alt=\"Open In Colab\"/></a>"
      ]
    },
    {
      "cell_type": "markdown",
      "metadata": {
        "id": "zEhbPvWkkLsD"
      },
      "source": [
        "# 외부라이브러리 이용하기\n",
        "\n",
        "모듈은 기본적으로 파이썬의 설치와 동시에 제공되는 프로그램입니다.\n",
        "\n",
        "파이썬에 기본으로 제공되지 않는 프로그램을 이용하기 위해서는 설치가 필요합니다.\n",
        "\n",
        "간단한 명령어를 통해 설치가 가능한데\n",
        "\n",
        "코랩은 기본 파이썬 모듈 뿐만 아니라 많이 사용하는 외부라이브러리도 이미 설치되어 제공되기 때문에\n",
        "\n",
        "바로 import 하여 사용할 수 있습니다.\n",
        "\n",
        "\n",
        "그래프를 그리는 도구인 matplotlib를 import 해보겠습니다.\n"
      ]
    },
    {
      "cell_type": "markdown",
      "metadata": {
        "id": "t0XI7QAeuguV"
      },
      "source": [
        ""
      ]
    },
    {
      "cell_type": "code",
      "metadata": {
        "id": "4UMArAJzk67R"
      },
      "source": [
        "import matplotlib.pyplot as plt"
      ],
      "execution_count": null,
      "outputs": []
    },
    {
      "cell_type": "code",
      "metadata": {
        "id": "xNtJ-_ualOZK"
      },
      "source": [
        "plt.plot([1, 2, 3, 4], [1, 4, 9, 16])"
      ],
      "execution_count": null,
      "outputs": []
    },
    {
      "cell_type": "code",
      "metadata": {
        "id": "KTQDyxwflRy-"
      },
      "source": [
        "plt.scatter([1, 2, 3, 4], [1, 4, 9, 16])\n",
        "plt.title(\"제목입력\", fontsize=16)\n",
        "plt.plot([1, 2, 3, 4], [1, 4, 9, 16])"
      ],
      "execution_count": null,
      "outputs": []
    },
    {
      "cell_type": "code",
      "metadata": {
        "id": "13Of_2kPsdj2"
      },
      "source": [
        "!sudo apt-get install -y fonts-nanum\n",
        "!sudo fc-cache -fv\n",
        "!rm ~/.cache/matplotlib -rf\n",
        "# 런타임 재시작"
      ],
      "execution_count": null,
      "outputs": []
    },
    {
      "cell_type": "code",
      "metadata": {
        "id": "_VMmj54YsiIb"
      },
      "source": [
        "import matplotlib.pyplot as plt\n",
        "plt.rc('font', family='NanumBarunGothic') \n",
        "plt.scatter([1, 2, 3, 4], [1, 4, 9, 16])\n",
        "plt.title(\"인공지능 수학 성적\", fontsize=16)\n",
        "plt.plot([1, 2, 3, 4], [1, 4, 9, 16])"
      ],
      "execution_count": null,
      "outputs": []
    },
    {
      "cell_type": "markdown",
      "metadata": {
        "id": "ZZeLyrg-lN2H"
      },
      "source": [
        "\n",
        "\n",
        "---\n",
        "\n",
        "\n",
        "\n",
        "---\n",
        "\n",
        "\n",
        "\n",
        "---\n",
        "\n"
      ]
    },
    {
      "cell_type": "markdown",
      "metadata": {
        "id": "O1rXerd6lnDU"
      },
      "source": [
        "# 동전던지기 그래프로 나타내기\n",
        "\n",
        "앞서 구해보았던 상대도수를 그래프로 나타내 보도록 하겠습니다.\n",
        "\n",
        "출력하는 대신 상대도수라는 리스트를 만들어 그 값을 추가하는 형태로 변경되었습니다."
      ]
    },
    {
      "cell_type": "code",
      "metadata": {
        "id": "h7CVtwM8hPzd"
      },
      "source": [
        "import random\n",
        "\n",
        "앞면횟수 = 0                            # 앞면이 나온 횟수를 세야하기 때문에 변수로 지정하고 아직 0회이므로 0을 넣습니다.\n",
        "상대도수 = []\n",
        "for i in range(1000):                  # 200번 반복합니다.\n",
        "    결과 = random.choice([\"앞면\", \"뒷면\"])      # random.choice를 이용하여 동전을 던집니다.\n",
        "    if 결과 == \"앞면\":                    # 앞면이 나오면 앞면횟수에 1을 더하기 위한 if 문, 띄워쓰기 주의 \n",
        "        앞면횟수 = 앞면횟수 +1\n",
        "    상대도수.append(앞면횟수/(i+1))\n",
        "print(상대도수)"
      ],
      "execution_count": null,
      "outputs": []
    },
    {
      "cell_type": "code",
      "metadata": {
        "id": "Z-lbzjFbh8Kh"
      },
      "source": [
        "# 그래프 그리기\n",
        "plt.plot(상대도수)"
      ],
      "execution_count": null,
      "outputs": []
    },
    {
      "cell_type": "code",
      "metadata": {
        "id": "V53k4rv8iRK_"
      },
      "source": [
        "# 그래프에 타이틀 추가하기\n",
        "plt.title(\"동전을 던져서 앞면이 나올 상대도수\", fontsize=16)\n",
        "plt.plot(상대도수)"
      ],
      "execution_count": null,
      "outputs": []
    },
    {
      "cell_type": "code",
      "metadata": {
        "id": "ch9bANdEmnPc"
      },
      "source": [
        "# 그래프에 x축 y축 제목추가하기\n",
        "plt.title(\"동전을 던져서 앞면이 나올 상대도수\", fontsize=16)\n",
        "plt.xlabel(\"던진횟수\", fontsize=12)\n",
        "plt.ylabel(\"상대도수\", fontsize=12)\n",
        "plt.plot(상대도수)"
      ],
      "execution_count": null,
      "outputs": []
    },
    {
      "cell_type": "code",
      "metadata": {
        "id": "ve8AhmbNm5l9"
      },
      "source": [
        "# 그래프에 0.5 수직선 그려보기\n",
        "plt.title(\"동전을 던져서 앞면이 나올 상대도수\", fontsize=16)\n",
        "plt.xlabel(\"던진횟수\", fontsize=12)\n",
        "plt.ylabel(\"상대도수\", fontsize=12)\n",
        "plt.axhline(0.5, color='red', linestyle='--', linewidth='1')\n",
        "plt.plot(상대도수)"
      ],
      "execution_count": null,
      "outputs": []
    },
    {
      "cell_type": "code",
      "metadata": {
        "id": "TRAajXHeniWP"
      },
      "source": [
        "# 그래프에 그릴 범위 정하기\n",
        "plt.title(\"동전을 던져서 앞면이 나올 상대도수\", fontsize=16)\n",
        "plt.xlabel(\"던진횟수\", fontsize=12)\n",
        "plt.ylabel(\"상대도수\", fontsize=12)\n",
        "plt.axhline(0.5, color='red', linestyle='--', linewidth='1')\n",
        "plt.axis([0, 1000, 0.4, 0.6])\n",
        "plt.plot(상대도수)"
      ],
      "execution_count": null,
      "outputs": []
    },
    {
      "cell_type": "code",
      "metadata": {
        "id": "tkw4h0HmoAKP"
      },
      "source": [
        "# 그래프에 모눈 추가하기\n",
        "plt.title(\"동전을 던져서 앞면이 나올 상대도수\", fontsize=16)\n",
        "plt.xlabel(\"던진횟수\", fontsize=12)\n",
        "plt.ylabel(\"상대도수\", fontsize=12)\n",
        "plt.axhline(0.5, color='red', linestyle='--', linewidth='1')\n",
        "plt.axis([0, 1000, 0.4, 0.6])\n",
        "plt.grid(True)\n",
        "plt.plot(상대도수)"
      ],
      "execution_count": null,
      "outputs": []
    },
    {
      "cell_type": "code",
      "metadata": {
        "id": "wYKMTVW3p5dw",
        "colab": {
          "base_uri": "https://localhost:8080/",
          "height": 317
        },
        "outputId": "e385295a-8a75-4813-95a4-e2c654e202d1"
      },
      "source": [
        "# 그래프 크기 변경하기\n",
        "plt.title(\"동전을 던져서 앞면이 나올 상대도수\", fontsize=16)\n",
        "plt.xlabel(\"던진횟수\", fontsize=12)\n",
        "plt.ylabel(\"상대도수\", fontsize=12)\n",
        "plt.axhline(0.5, color='red', linestyle='--', linewidth='1')\n",
        "plt.axis([0, 1000, 0.4, 0.6])\n",
        "plt.grid(True)\n",
        "plt.rcParams[\"figure.figsize\"] = (6,4)\n",
        "plt.plot(상대도수)"
      ],
      "execution_count": null,
      "outputs": [
        {
          "output_type": "execute_result",
          "data": {
            "text/plain": [
              "[<matplotlib.lines.Line2D at 0x7f75620f4d50>]"
            ]
          },
          "metadata": {},
          "execution_count": 24
        },
        {
          "output_type": "display_data",
          "data": {
            "image/png": "[encoded data removed]",
            "text/plain": [
              "<Figure size 432x288 with 1 Axes>"
            ]
          },
          "metadata": {
            "needs_background": "light"
          }
        }
      ]
    },
    {
      "cell_type": "markdown",
      "metadata": {
        "id": "tMlp4WH1uzv7"
      },
      "source": [
        "\n",
        "\n",
        "---\n",
        "\n",
        "\n",
        "\n",
        "---\n",
        "\n"
      ]
    },
    {
      "cell_type": "markdown",
      "metadata": {
        "id": "DXgLI9uPuigt"
      },
      "source": [
        "# 과제\n",
        "## 앞선 과제에서 했던 주사위의 1의 눈이 나올 상대도수를 그래프로 나타내보세요."
      ]
    },
    {
      "cell_type": "code",
      "metadata": {
        "id": "m6UV99-uLD2p"
      },
      "source": [
        ""
      ],
      "execution_count": null,
      "outputs": []
    },
    {
      "cell_type": "markdown",
      "metadata": {
        "id": "40o7wbPDu01F"
      },
      "source": [
        "\n",
        "\n",
        "---\n",
        "\n",
        "\n",
        "\n",
        "---\n",
        "\n"
      ]
    },
    {
      "cell_type": "code",
      "metadata": {
        "id": "Yp9u3GMauy15"
      },
      "source": [
        ""
      ],
      "execution_count": null,
      "outputs": []
    },
    {
      "cell_type": "markdown",
      "metadata": {
        "id": "HRA03Eywpi6y"
      },
      "source": [
        "# 참고사이트\n",
        "\n",
        "외부라이브러리는 개발사 공식홈페이지에서 확인하는 것이 가장 정확하고 많은 정보를 담고 있지만 대부분 영어로 되어 있다.\n",
        "\n",
        "많이 사용하는 라이브러리는 그 설명이 인터넷에 잘 정리해 둔 곳이 많이 있으니 검색해 보는 것이 좋다.\n",
        "\n",
        "matplotlib 기본적인 내용은 아래의 사이트를 추천한다.\n",
        "\n",
        "\n",
        "[Matplotlib Tutorial - 파이썬으로 데이터 시각화하기](https://wikidocs.net/book/5011)"
      ]
    }
  ]
}