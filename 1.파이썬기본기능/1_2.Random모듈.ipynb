{
  "nbformat": 4,
  "nbformat_minor": 0,
  "metadata": {
    "colab": {
      "name": "1-2.Random모듈.ipynb",
      "provenance": [],
      "collapsed_sections": [],
      "include_colab_link": true
    },
    "kernelspec": {
      "display_name": "Python 3",
      "name": "python3"
    },
    "language_info": {
      "name": "python"
    }
  },
  "cells": [
    {
      "cell_type": "markdown",
      "metadata": {
        "id": "view-in-github",
        "colab_type": "text"
      },
      "source": [
        "<a href=\"https://colab.research.google.com/github/hwanys2/AI-math/blob/main/1.%ED%8C%8C%EC%9D%B4%EC%8D%AC%EA%B8%B0%EB%B3%B8%EA%B8%B0%EB%8A%A5/1_2.Random%EB%AA%A8%EB%93%88.ipynb\" target=\"_parent\"><img src=\"https://colab.research.google.com/assets/colab-badge.svg\" alt=\"Open In Colab\"/></a>"
      ]
    },
    {
      "cell_type": "markdown",
      "metadata": {
        "id": "3lmYgU5IWh_n"
      },
      "source": [
        "# 파이썬 기본 모듈 사용하기\n",
        "\n",
        "파이썬에서는 다양한 모듈들을 기본적으로 제공하고 있습니다.\n",
        "\n",
        "내장함수와 달리 모듈은 불러오기를 해야 만 사용할 수 있습니다.\n",
        "\n",
        "윈도우에서 계산기 프로그램을 실행시켜야만 계산기를 사용할 수 있듯이\n",
        "\n",
        "파이썬에서는 import 라는 명령어를 통해 모듈을 불러와야 사용할 수 있습니다.\n",
        "\n",
        "예를 들어 random 이라는 모듈을 불러오고 사용하는 것을 실습해보겠습니다.\n",
        "\n",
        "아래 코드를 실행시켜 보십시요. 별다른 변화는 없지만 랜덤 함수를 사용할 수 있게 됩니다."
      ]
    },
    {
      "cell_type": "code",
      "metadata": {
        "id": "f_wpIqe0WePp"
      },
      "source": [
        "import random"
      ],
      "execution_count": null,
      "outputs": []
    },
    {
      "cell_type": "markdown",
      "metadata": {
        "id": "9_hI5KewXWT9"
      },
      "source": [
        "# 랜덤 모듈에는 무엇이 있나?\n",
        "\n",
        "[랜덤 모듈](https://docs.python.org/ko/3/library/random.html#module-random)\n",
        "\n",
        "절대 모든 함수를 외울 수 없습니다. 검색이 필요한데 기본 모듈은 공식 홈페이지에 자세히 설명되어 있습니다.\n",
        "\n",
        "위의 링크는 랜덤모듈에 대한 공식홈페이지의 설명입니다.\n",
        "\n",
        "본인이 필요한 정보를 찾아 사용하면 되는데, 일반적으로는 필요한 내용에 '파이썬'을 붙여서 구글 검색하시면 대부분 검색하실 수 있습니다.\n"
      ]
    },
    {
      "cell_type": "markdown",
      "metadata": {
        "id": "4RPhGoyiX1qh"
      },
      "source": [
        "# 로또 번호 만들기\n",
        "\n",
        "random 모듈에서 sample 이라는 명령어를 이용하여 로또 번호 추출기를 만들어 보겠습니다.  \n",
        "random을 import 했고 이것을 사용하여 random안의 명령어를 사용하기 위해서는 random.(random 모듈에서 제공하는 명령어) 형태로 입력해야 합니다.  \n",
        "예를들어 sample이라는 명령어를 사용하기 위해서는  \n",
        "\n",
        "\n",
        "```\n",
        "random.sample(이 명령어가 지정한 변수들 입력)\n",
        "```\n",
        "\n",
        "와 같이 입력해야 합니다.  \n",
        "sample은 두가지 변수를 입력해야 합니다.  \n",
        "첫번째는 샘플링할 집단과 두번째 변수는 샘플링할 갯수를 입력합니다.  \n",
        "이러한 정보는 random.sample 이라쓰고 sample에 마우스 오버하면 확인할 수 있습니다.  \n",
        "이를 바탕으로 로또 번호 추출기를 만들어 보겠습니다.  \n",
        "1부터 45 숫자에서 7개의 숫자를 랜덤추출하여 앞의 6개는 당첨번호 마지막 하나는 보너스 번호로 배정하겠습니다.  \n",
        "이를 위해 range(1, 46)을 사용하면 1부터 45까지의 수를 대상으로 삼을 수 있습니다.  \n",
        "아래 코드를 실행시켜보고 그 코드의 의미를 파악해보세요.\n",
        "### 실습"
      ]
    },
    {
      "cell_type": "code",
      "metadata": {
        "id": "vN8FBnzOXMuA"
      },
      "source": [
        "import random\n",
        "\n",
        "lotto = random.sample(range(1,46), 7)\n",
        "print(lotto)\n",
        "print(\"이번주 당첨 번호는 \", lotto[:6], \"이고 \", \"보너스 번호는 \", lotto[-1], \"입니다\")"
      ],
      "execution_count": null,
      "outputs": []
    },
    {
      "cell_type": "markdown",
      "metadata": {
        "id": "jzUb8bUQmpQb"
      },
      "source": [
        "# 과제\n",
        "## 1. 로또를 5장 구입한 걸 가정하여 로또 구입 리스트를 만들어라.\n",
        "- 자신이 원하는 숫자 6개를 선택하여 2개는 수동으로 구입하고 나머지 3개는 자동으로 입력하게 만들어라.\n",
        "- 구입한로또 = [] 로 리스트를 만든 후 구입한로또.append([4,6,34,2,5,13]) 와 같이 자신이 원하는 숫자를 리스트에 담아 이 리스트를 구입한로또에 담아라.\n",
        "- 위의 당첨번호만드는 코드를 활용하여 자동으로 구입 로또 번호를 3개를 만들어라.<br><br>\n",
        "\n",
        "\n"
      ]
    },
    {
      "cell_type": "code",
      "metadata": {
        "id": "3NTEDKo5Fjk7"
      },
      "source": [
        "구입한로또 = []\n",
        "구입한로또.append([])\n",
        "구입한로또.\n",
        "\n",
        "for i in range():\n",
        "    구입한로또.append(random.sample(range(1, ),  ))\n",
        "\n",
        "구입한로또\n"
      ],
      "execution_count": null,
      "outputs": []
    },
    {
      "cell_type": "markdown",
      "metadata": {
        "id": "AAPxv4wyFd77"
      },
      "source": [
        "## 2. 이번 주 로또 당첨 번호 리스트 만들기\n",
        "- 당첨번호는 랜덤으로 7개를 뽑고 마지막으로 뽑힌 숫자는 보너스 번호이다.\n",
        "- 당첨번호 = random.sample(range(1,46), 7) 으로 만들 수 있다.\n",
        "- 2020년 8월 10일 로또 당첨번호는 2, 4, ,21, 32, 6, 42 이고 보너스번호는 37입니다. 와 같은 출력문을 만들어라.\n"
      ]
    },
    {
      "cell_type": "code",
      "metadata": {
        "id": "Ed7kN_LCFdae"
      },
      "source": [
        "당첨번호 = random.sample(range(1,46), 7)\n",
        "print('2021년 8월 10일 로또 당첨번호는', 당첨번호[:6],'이고 보너스번호는',당첨번호[-1],'입니다' )"
      ],
      "execution_count": null,
      "outputs": []
    },
    {
      "cell_type": "markdown",
      "metadata": {
        "id": "do2W9t50FSJI"
      },
      "source": [
        "## 3. 구입로또와 당첨로또를 비교하여 당첨 결과를 출력하여라.\n",
        "- 6개의 숫자가 당첨번호와 모두 일치하면 1등.\n",
        "- 5개의 숫자가 당첨번호와 일치하고 남은 한 숫자가 보너스 번호와 일치하면 2등.\n",
        "- 5개의 숫자가 당첨번호와 일치하면 3등\n",
        "- 4개의 숫자가 당첨번호와 일치하면 4등\n",
        "- 3개의 숫자가 당첨번호와 일치하면 5등\n",
        "\n",
        "\n",
        "\n",
        "```\n",
        "for 로또번호 in 구입한로또:\n",
        "    일치개수 = 0\n",
        "    for i in range(6):\n",
        "        if 로또번호[i] in 당첨번호[0:6] :\n",
        "            일치개수 = 일치개수 + 1\n",
        "    \n",
        "    if 일치개수 == 6:\n",
        "        print(로또번호, \"는 1등에 당첨되엇습니다. 축하합니다.\")\n",
        "```"
      ]
    },
    {
      "cell_type": "code",
      "metadata": {
        "id": "5jw75SrhBXu5"
      },
      "source": [
        "for 로또번호 in 구입한로또:\n",
        "    일치개수 = 0\n",
        "    for i in range(6):\n",
        "        if 로또번호[i] in 당첨번호[0:6] :\n",
        "            일치개수 = 일치개수 + 1\n",
        "\n",
        "    if 일치개수 == 6:\n",
        "        print(로또번호, \"는 1등에 당첨되엇습니다. 축하합니다.\")\n",
        "    elif 일치개수 == 5 and      # 보너스 번호가 맞았는지 확인해서 2등!\n",
        "        print(로또번호, \"는 2등에 당첨되엇습니다. 축하합니다.\")\n",
        "    elif 일치개수 ==4 :\n"
      ],
      "execution_count": null,
      "outputs": []
    },
    {
      "cell_type": "markdown",
      "metadata": {
        "id": "Bb1WtTXBadrk"
      },
      "source": [
        "\n",
        "\n",
        "---\n",
        "\n",
        "\n",
        "\n",
        "---\n",
        "\n"
      ]
    },
    {
      "cell_type": "markdown",
      "metadata": {
        "id": "qd1o64Vvaf0r"
      },
      "source": [
        "# 수학과 관련하여 자주 사용할 기본 모듈 math\n",
        "\n",
        "[math 모듈](https://docs.python.org/ko/3/library/math.html#module-math)\n",
        "\n",
        "수학에서 사용되는 조합, 절댓값, 최대공약수, 최소공배수, 정수부분 등등 을 지원하는 모듈입니다.\n",
        "\n",
        "사실 이 역시 하나씩 찾아서 외우기 보다는\n",
        "\n",
        "최대공약수를 파이썬에서 구해보고 싶다면\n",
        "\n",
        "'파이썬 최대공약수'를 구글에서 검색하시는 걸 추천드립니다."
      ]
    },
    {
      "cell_type": "code",
      "metadata": {
        "id": "wkFPrznIYNbf",
        "colab": {
          "base_uri": "https://localhost:8080/"
        },
        "outputId": "ba1758e3-d116-4c17-f81b-9ae421f31b6a"
      },
      "source": [
        "import math\n",
        "math.gcd(2132235154,34544353242)    # 최대공약수"
      ],
      "execution_count": null,
      "outputs": [
        {
          "output_type": "execute_result",
          "data": {
            "text/plain": [
              "14"
            ]
          },
          "metadata": {
            "tags": []
          },
          "execution_count": 117
        }
      ]
    },
    {
      "cell_type": "markdown",
      "metadata": {
        "id": "I3E7ZZ8BW3yz"
      },
      "source": [
        "# 과제\n",
        "## 위의 math 링크에 들어가 사용해보고 싶은 함수를 정해 아래 코드 입력창에 실행해보세요."
      ]
    },
    {
      "cell_type": "code",
      "metadata": {
        "id": "CLFNrN7-XCa6"
      },
      "source": [
        ""
      ],
      "execution_count": null,
      "outputs": []
    },
    {
      "cell_type": "markdown",
      "metadata": {
        "id": "b5nWVcWXb14B"
      },
      "source": [
        "\n",
        "\n",
        "---\n",
        "\n",
        "\n",
        "\n",
        "---\n",
        "\n",
        "\n",
        "\n",
        "---\n",
        "\n"
      ]
    },
    {
      "cell_type": "markdown",
      "metadata": {
        "id": "bY3HErjtdhj_"
      },
      "source": [
        "# 동전 던지기 시뮬레이션 모델 만들기\n",
        "\n",
        "동전을 던지는 시행을 반복하며 앞 면이 나오는 누적 상대도수를 구해보도록 하겠습니다.\n",
        "\n"
      ]
    },
    {
      "cell_type": "code",
      "metadata": {
        "id": "2tQoz08Kc1iP"
      },
      "source": [
        "import random\n",
        "\n",
        "앞면횟수 = 0                               # 앞면이 나온 횟수를 세야하기 때문에 변수로 지정하고 아직 0회이므로 0을 넣습니다.\n",
        "for i in range(200):                  # 200번 반복합니다.\n",
        "    결과 = random.choice([\"앞면\", \"뒷면\"])      # random.choice를 이용하여 동전을 던집니다.\n",
        "    if 결과 == \"앞면\":                    # 앞면이 나오면 앞면횟수에 1을 더하기 위한 if 문, 띄워쓰기 주의 \n",
        "        앞면횟수 += 1\n",
        "    print(i+1, \"회 실행 결과 앞면이 나온 횟수는 \", 앞면횟수, \"이고 상대도수는 \", 앞면횟수/(i+1) , \"입니다.\")    # 반올림 설명, 1000번째만 실행하려면?"
      ],
      "execution_count": null,
      "outputs": []
    },
    {
      "cell_type": "markdown",
      "metadata": {
        "id": "JVq3xdqazuVX"
      },
      "source": [
        "\n",
        "\n",
        "---\n",
        "\n",
        "\n",
        "\n",
        "---\n",
        "\n"
      ]
    },
    {
      "cell_type": "markdown",
      "metadata": {
        "id": "v2AkmiG0zvkU"
      },
      "source": [
        "# 과제\n",
        "##주사위를 1000번 던졌을 때 1의 눈이 나올 상대도수를 구해보세요."
      ]
    },
    {
      "cell_type": "code",
      "metadata": {
        "id": "Fb546xsedrzw"
      },
      "source": [
        ""
      ],
      "execution_count": null,
      "outputs": []
    }
  ]
}