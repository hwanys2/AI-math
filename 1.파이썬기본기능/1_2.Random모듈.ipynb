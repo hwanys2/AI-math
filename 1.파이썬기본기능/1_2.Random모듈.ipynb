{
  "nbformat": 4,
  "nbformat_minor": 0,
  "metadata": {
    "colab": {
      "name": "1-2.Random모듈.ipynb",
      "provenance": [],
      "collapsed_sections": [],
      "include_colab_link": true
    },
    "kernelspec": {
      "display_name": "Python 3",
      "name": "python3"
    },
    "language_info": {
      "name": "python"
    }
  },
  "cells": [
    {
      "cell_type": "markdown",
      "metadata": {
        "id": "view-in-github",
        "colab_type": "text"
      },
      "source": [
        "<a href=\"https://colab.research.google.com/github/hwanys2/AI-math/blob/main/1.%ED%8C%8C%EC%9D%B4%EC%8D%AC%EA%B8%B0%EB%B3%B8%EA%B8%B0%EB%8A%A5/1_2.Random%EB%AA%A8%EB%93%88.ipynb\" target=\"_parent\"><img src=\"https://colab.research.google.com/assets/colab-badge.svg\" alt=\"Open In Colab\"/></a>"
      ]
    },
    {
      "cell_type": "markdown",
      "metadata": {
        "id": "3lmYgU5IWh_n"
      },
      "source": [
        "# 파이썬 기본 모듈 사용하기\n",
        "\n",
        "파이썬에서는 다양한 모듈들을 기본적으로 제공하고 있습니다.\n",
        "\n",
        "내장함수와 달리 모듈은 불러오기를 해야 만 사용할 수 있습니다.\n",
        "\n",
        "윈도우에서 계산기 프로그램을 실행시켜야만 계산기를 사용할 수 있듯이\n",
        "\n",
        "파이썬에서는 import 라는 명령어를 통해 모듈을 불러와야 사용할 수 있습니다.\n",
        "\n",
        "예를 들어 random 이라는 모듈을 불러오고 사용하는 것을 실습해보겠습니다.\n",
        "\n",
        "아래 코드를 실행시켜 보십시요. 별다른 변화는 없지만 랜덤 함수를 사용할 수 있게 됩니다."
      ]
    },
    {
      "cell_type": "code",
      "metadata": {
        "id": "f_wpIqe0WePp"
      },
      "source": [
        "import random"
      ],
      "execution_count": null,
      "outputs": []
    },
    {
      "cell_type": "markdown",
      "metadata": {
        "id": "9_hI5KewXWT9"
      },
      "source": [
        "# 랜덤 모듈에는 무엇이 있나?\n",
        "\n",
        "[랜덤 모듈](https://docs.python.org/ko/3/library/random.html#module-random)\n",
        "\n",
        "절대 모든 함수를 외울 수 없습니다. 검색이 필요한데 기본 모듈은 공식 홈페이지에 자세히 설명되어 있습니다.\n",
        "\n",
        "위의 링크는 랜덤모듈에 대한 공식홈페이지의 설명입니다.\n",
        "\n",
        "본인이 필요한 정보를 찾아 사용하면 되는데, 일반적으로는 필요한 내용에 '파이썬'을 붙여서 구글 검색하시면 대부분 검색하실 수 있습니다.\n"
      ]
    },
    {
      "cell_type": "markdown",
      "metadata": {
        "id": "4RPhGoyiX1qh"
      },
      "source": [
        "# 로또 번호 만들기\n",
        "\n",
        "random 모듈에서 sample 이라는 명령어를 이용하여 로또 번호 추출기를 만들어 보겠습니다.  \n",
        "random을 import 했고 이것을 사용하여 random안의 명령어를 사용하기 위해서는 random.(random 모듈에서 제공하는 명령어) 형태로 입력해야 합니다.  \n",
        "예를들어 sample이라는 명령어를 사용하기 위해서는  \n",
        "\n",
        "\n",
        "```\n",
        "random.sample(이 명령어가 지정한 변수들 입력)\n",
        "```\n",
        "\n",
        "와 같이 입력해야 합니다.  \n",
        "sample은 두가지 변수를 입력해야 합니다.  \n",
        "첫번째는 샘플링할 집단과 두번째 변수는 샘플링할 갯수를 입력합니다.  \n",
        "이러한 정보는 random.sample 이라쓰고 sample에 마우스 오버하면 확인할 수 있습니다.  \n",
        "이를 바탕으로 로또 번호 추출기를 만들어 보겠습니다.  \n",
        "1부터 45 숫자에서 7개의 숫자를 랜덤추출하여 앞의 6개는 당첨번호 마지막 하나는 보너스 번호로 배정하겠습니다.  \n",
        "이를 위해 range(1, 46)을 사용하면 1부터 45까지의 수를 대상으로 삼을 수 있습니다.  \n",
        "아래 코드를 실행시켜보고 그 코드의 의미를 파악해보세요.\n",
        "### 실습"
      ]
    },
    {
      "cell_type": "code",
      "metadata": {
        "id": "vN8FBnzOXMuA"
      },
      "source": [
        "import random\n",
        "\n",
        "lotto = random.sample(range(1,46), 7)\n",
        "print(lotto)\n",
        "print(\"이번주 당첨 번호는 \", lotto[:6], \"이고 \", \"보너스 번호는 \", lotto[-1], \"입니다\")"
      ],
      "execution_count": null,
      "outputs": []
    },
    {
      "cell_type": "markdown",
      "metadata": {
        "id": "jzUb8bUQmpQb"
      },
      "source": [
        "# 랜덤모듈 연습하기\n",
        "\n",
        "위의 코드를 활용하여 다음의 절차를 따라 로또 번호 구입과 당첨 확인을 해보는 프로그램을 제작해보겠습니다.\n",
        "\n",
        "### 1. 로또를 5장 구입한 걸 가정하여 로또 구입 리스트를 아래와 같이 만드세요.\n",
        "- 자신이 원하는 숫자 6개를 선택하여 2개는 수동으로 구입하고 나머지 3개는 자동으로 입력하게 만드세요.\n",
        "- 구입한로또 = [] 로 리스트를 만든 후 구입한로또.append([4,6,34,2,5,13]) 와 같이 자신이 원하는 숫자를 리스트에 담아 이 리스트를 구입한로또에 담으세요.\n",
        "- 위의 당첨번호만드는 코드를 활용하여 자동으로 구입 로또 번호를 3개를 만드세요.<br><br>\n",
        "\n",
        "\n"
      ]
    },
    {
      "cell_type": "code",
      "metadata": {
        "id": "3NTEDKo5Fjk7"
      },
      "source": [
        "구입한로또 = []\n",
        "구입한로또.append([])\n",
        "구입한로또.\n",
        "\n",
        "for i in range():\n",
        "    구입한로또.append(random.sample(range(1, ),  ))\n",
        "\n",
        "구입한로또\n"
      ],
      "execution_count": null,
      "outputs": []
    },
    {
      "cell_type": "markdown",
      "metadata": {
        "id": "AAPxv4wyFd77"
      },
      "source": [
        "### 2. 이번 주 로또 당첨 번호 리스트 만들기\n",
        "- 당첨번호는 랜덤으로 7개를 뽑고 마지막으로 뽑힌 숫자는 보너스 번호입니다.\n",
        "- 당첨번호 = random.sample(range(1,46), 7) 으로 만들 수 있습니다.\n",
        "- 2022년 1월 22일 로또 당첨번호는 2, 4, ,21, 32, 6, 42 이고 보너스번호는 37입니다. 와 같은 출력문을 만드세요.\n"
      ]
    },
    {
      "cell_type": "code",
      "metadata": {
        "id": "Ed7kN_LCFdae"
      },
      "source": [
        ""
      ],
      "execution_count": null,
      "outputs": []
    },
    {
      "cell_type": "markdown",
      "source": [
        "샘플 답안입니다. 답을 먼저 보지 마시고 직접 작성해보세요.\n",
        "\n",
        "```\n",
        "당첨번호 = random.sample(range(1,46), 7)\n",
        "print('2022년 1월 22일 로또 당첨번호는', 당첨번호[:6],'이고 보너스번호는',당첨번호[-1],'입니다' )\n",
        "```\n",
        "\n"
      ],
      "metadata": {
        "id": "giUF9biCo27w"
      }
    },
    {
      "cell_type": "markdown",
      "metadata": {
        "id": "do2W9t50FSJI"
      },
      "source": [
        "### 3. 구입로또와 당첨로또를 비교하여 당첨 결과를 출력하세요.\n",
        "- 6개의 숫자가 당첨번호와 모두 일치하면 1등.\n",
        "- 5개의 숫자가 당첨번호와 일치하고 남은 한 숫자가 보너스 번호와 일치하면 2등.\n",
        "- 5개의 숫자가 당첨번호와 일치하면 3등\n",
        "- 4개의 숫자가 당첨번호와 일치하면 4등\n",
        "- 3개의 숫자가 당첨번호와 일치하면 5등\n",
        "\n",
        "이러한 과정을 진행하기 위해서는 if 문을 학습할 필요가 있습니다.\n",
        "\n",
        "# if문\n",
        "if문은 다음과 같은 형태로 제작합니다.\n",
        "\n",
        "\n",
        "```\n",
        "if (조건을 입력):\n",
        "    (위의 조건이 만족할 경우에만 실행할 코드 작성)\n",
        "```\n",
        "위와 같은 형태로 if문을 작성합니다.  \n",
        "\n",
        "아래의 식을 보며 if문에 대해 살펴보세요."
      ]
    },
    {
      "cell_type": "code",
      "source": [
        "answer = input('당신은 여자입니까? 예, 아니오로 답하세요.')\n",
        "if answer == '예':             # 여기에 같은지 확인하는 것이 == 임을 주의하세요. 등호가 두개가 같다라는 의미입니다.\n",
        "    print('당신은 여자이군요. 반갑습니다.')"
      ],
      "metadata": {
        "id": "-sev0I4gp0fj",
        "outputId": "e575bdf3-5ab6-4662-807f-430371fbc034",
        "colab": {
          "base_uri": "https://localhost:8080/"
        }
      },
      "execution_count": null,
      "outputs": [
        {
          "name": "stdout",
          "output_type": "stream",
          "text": [
            "당신은 여자입니까? 예, 아니오로 답하세요.아니오\n"
          ]
        }
      ]
    },
    {
      "cell_type": "markdown",
      "source": [
        "위의 코드를 아니오로 대답하면 남자임을 확인하고, 예, 아니오 둘다 아닌 값을 입력할 경우에는 다시 입력하라는 오류 메세지를 띄워보겠습니다.  \n",
        "이를 위해서 if와 함께 다니는 elif와 else를 사용하도록 하겠습니다.  \n",
        "elif는 else if의 줄임말로 바로위의 if문이 아닌 경우에만 실행되도록 됩니다.  \n",
        "조건을 병렬적으로 여러개 나타낼 때 사용하고, 나열된 모든 경우가 아닌 경우에 대해서 실행시킬 코드는 else를 사용합니다.  \n",
        "다음 예제를 살펴보세요.\n"
      ],
      "metadata": {
        "id": "yiysM8QcqcEX"
      }
    },
    {
      "cell_type": "code",
      "source": [
        "answer = input('당신은 여자입니까? 예, 아니오로 답하세요.')\n",
        "if answer == '예':             \n",
        "    print('당신은 여자이군요. 반갑습니다.')\n",
        "elif answer == '아니오':\n",
        "    print('당신은 남자이군요. 반갑습니다.')\n",
        "else :\n",
        "    print('예, 아니오 로만 대답해주세요.')"
      ],
      "metadata": {
        "id": "tCTivq1erBqP"
      },
      "execution_count": null,
      "outputs": []
    },
    {
      "cell_type": "markdown",
      "source": [
        "이제 if가 조금 익숙해 지셨다면  \n",
        "다시 당첨 결과를 확인하는 코드를 만들어 보겠습니다.  \n",
        "바로 제작이 어려울거 같아 다음과 같은 힌트를 제공합니다.  \n",
        "이를 참고하여 아래 코드창에 위의 문제를 해결하는 코드륵 작성해보세요.\n",
        "\n",
        "```\n",
        "for 로또번호 in 구입한로또:\n",
        "    일치개수 = 0\n",
        "    for i in range(6):\n",
        "        if 로또번호[i] in 당첨번호[0:6] :\n",
        "            일치개수 = 일치개수 + 1\n",
        "    \n",
        "    if 일치개수 == 6:\n",
        "        print(로또번호, \"는 1등에 당첨되엇습니다. 축하합니다.\")\n",
        "```\n",
        "### 실습"
      ],
      "metadata": {
        "id": "x-jHhxybpsYO"
      }
    },
    {
      "cell_type": "code",
      "metadata": {
        "id": "5jw75SrhBXu5"
      },
      "source": [
        ""
      ],
      "execution_count": null,
      "outputs": []
    },
    {
      "cell_type": "markdown",
      "metadata": {
        "id": "Bb1WtTXBadrk"
      },
      "source": [
        "\n",
        "\n",
        "---\n",
        "\n",
        "\n",
        "\n",
        "---\n",
        "\n"
      ]
    },
    {
      "cell_type": "markdown",
      "metadata": {
        "id": "bY3HErjtdhj_"
      },
      "source": [
        "# 확률 실뮬레이션 모델 만들기\n",
        "\n",
        "확률과 통계 시뮬레이션에서도 많이 사용될 수 있습니다.  \n",
        "다음과 같이 동전을 던지는 시행을 반복하며 앞 면이 나오는 누적 상대도수를 구해보도록 하겠습니다.\n",
        "이를 위해 random모듈에서 choice를 사용했습니다.\n"
      ]
    },
    {
      "cell_type": "code",
      "metadata": {
        "id": "2tQoz08Kc1iP"
      },
      "source": [
        "import random\n",
        "\n",
        "앞면횟수 = 0                                   # 앞면이 나온 횟수를 세야하기 때문에 변수로 지정하고 아직 0회이므로 0을 넣습니다.\n",
        "for i in range(200):                         # 200번 반복합니다.\n",
        "    결과 = random.choice([\"앞면\", \"뒷면\"])      # random.choice를 이용하여 동전을 던집니다.\n",
        "    if 결과 == \"앞면\":                         # 앞면이 나오면 앞면횟수에 1을 더하기 위한 if 문, 띄워쓰기 주의 \n",
        "        앞면횟수 += 1\n",
        "    print(i+1, \"회 실행 결과 앞면이 나온 횟수는 \", 앞면횟수, \"이고 상대도수는 \", 앞면횟수/(i+1) , \"입니다.\")  "
      ],
      "execution_count": null,
      "outputs": []
    },
    {
      "cell_type": "markdown",
      "metadata": {
        "id": "JVq3xdqazuVX"
      },
      "source": [
        "\n",
        "\n",
        "---\n",
        "\n",
        "\n",
        "\n",
        "---\n",
        "\n"
      ]
    },
    {
      "cell_type": "markdown",
      "metadata": {
        "id": "v2AkmiG0zvkU"
      },
      "source": [
        "### 실습\n",
        "주사위를 1000번 던졌을 때 1의 눈이 나올 상대도수를 구해보세요."
      ]
    },
    {
      "cell_type": "code",
      "metadata": {
        "id": "Fb546xsedrzw"
      },
      "source": [
        ""
      ],
      "execution_count": null,
      "outputs": []
    }
  ]
}