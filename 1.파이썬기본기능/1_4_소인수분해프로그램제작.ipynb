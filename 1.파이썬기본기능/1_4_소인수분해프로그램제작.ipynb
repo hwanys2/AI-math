{
  "nbformat": 4,
  "nbformat_minor": 0,
  "metadata": {
    "colab": {
      "name": "1-4.소인수분해프로그램제작.ipynb",
      "private_outputs": true,
      "provenance": [],
      "authorship_tag": "ABX9TyMxVXIi7EVv6Xaa27G/jpDM",
      "include_colab_link": true
    },
    "kernelspec": {
      "name": "python3",
      "display_name": "Python 3"
    },
    "language_info": {
      "name": "python"
    }
  },
  "cells": [
    {
      "cell_type": "markdown",
      "metadata": {
        "id": "view-in-github",
        "colab_type": "text"
      },
      "source": [
        "<a href=\"https://colab.research.google.com/github/hwanys2/AI-math/blob/main/1.%ED%8C%8C%EC%9D%B4%EC%8D%AC%EA%B8%B0%EB%B3%B8%EA%B8%B0%EB%8A%A5/1_4_%EC%86%8C%EC%9D%B8%EC%88%98%EB%B6%84%ED%95%B4%ED%94%84%EB%A1%9C%EA%B7%B8%EB%9E%A8%EC%A0%9C%EC%9E%91.ipynb\" target=\"_parent\"><img src=\"https://colab.research.google.com/assets/colab-badge.svg\" alt=\"Open In Colab\"/></a>"
      ]
    },
    {
      "cell_type": "markdown",
      "source": [
        "# 소인수 분해 프로그램 만들기\n",
        "다음과 같은 순서로 진행해보겠습니다.  \n",
        "1. 주어진 수의 모든 약수 찾아보기. \n",
        "2. 소인수 찾기\n",
        "3. 소인수의 지수 찾기\n",
        "\n",
        "다음 수를 소인수분해 해보도록 하겠습니다."
      ],
      "metadata": {
        "id": "6L-4y01kyvSF"
      }
    },
    {
      "cell_type": "code",
      "source": [
        "num = 42660454735153"
      ],
      "metadata": {
        "id": "ix-DTOITzS-w"
      },
      "execution_count": null,
      "outputs": []
    },
    {
      "cell_type": "markdown",
      "source": [
        "# 1.약수찾기\n",
        "약수를 찾는 가장 기초적인 아이디어는 제공된 수보다 작은 모든 수로 나누어 나누어 떨어지는지 확인하는 것입니다.  \n",
        "그러나 위 숫자는 42조가 넘어 아무리 컴퓨터라도 상당한 시간이 소요됩니다.  \n",
        "실제 42조를 실행하기에는 너무 오래 걸리기에 4천200만번 나눗셈을 해보고 그 시간을 측정해보겠습니다.  \n",
        "시간과 관련하여 time 이라는 모듈이 있습니다."
      ],
      "metadata": {
        "id": "CZsDWE54zZB8"
      }
    },
    {
      "cell_type": "code",
      "source": [
        "import time\n",
        "start = time.time()  # 시작시간 저장\n",
        "\n",
        "for i in range(1,42000000):\n",
        "    num % i\n",
        "\n",
        "print('걸린 시간 :', time.time()-start)"
      ],
      "metadata": {
        "id": "cIl0C_R3z2ow"
      },
      "execution_count": null,
      "outputs": []
    },
    {
      "cell_type": "markdown",
      "source": [
        "제가 실행할때 6초 조금 넘게 걸렸습니다.  \n",
        "그렇다면 모든 수를 나눠보려면 600000초 이상 소요될 것 같습니다.  \n",
        "다른 방법을 찾아야 하겠죠?  \n",
        "수학이 유용함을 제공합니다. 제곱근을 이용하면 그 횟수를 현저히 줄일 수 있습니다.  \n",
        "\n",
        "제곱근은 math라는 모듈을 통해 사용할 수 있습니다.  \n",
        "주어진 수의 제곱근 값을 sqrt_num으로 사용하겠습니다."
      ],
      "metadata": {
        "id": "0jvTaEtT1ndN"
      }
    },
    {
      "cell_type": "code",
      "source": [
        "import math\n",
        "sqrt_num = math.sqrt(num)"
      ],
      "metadata": {
        "id": "W6ldYZ8DzDIW"
      },
      "execution_count": null,
      "outputs": []
    },
    {
      "cell_type": "markdown",
      "source": [
        "이제 sqrt_num보다 작은 수들을 차례로 나눠가며 약수임을 확인하고  \n",
        "약수들로 원래 숫자를 나눠 나머지 약수들을 찾아보겠습니다.  \n",
        "이를 위해 반복이 필요할 거 같습니다.  \n",
        "이번에는 while 문을 사용하여 반복해보겠습니다.\n",
        "\n",
        "# While 문\n",
        "while도 for문과 유사합니다. 조건을 만족하는 동안은 계속 반복하는 것이 while 입니다.다음과 같이 사용합니다.\n",
        "\n",
        "\n",
        "```\n",
        "while (조건):\n",
        "    조건을 만족할때 반복실행할 코드\n",
        "```\n",
        "\n",
        "이를 위해 i = 2로 지정하고 while문 안에서 i에 계속 1을 더해주도록 진행해 보겠습니다.  \n",
        "그 과정에서 약수로 판정된 숫자들은 div_small이라는 리스트에 담아보겠습니다."
      ],
      "metadata": {
        "id": "ltHNbxKW2Ugn"
      }
    },
    {
      "cell_type": "code",
      "source": [
        "div_small = []       # 약수 담을 리스트 생성\n",
        "i = 2                # 나누는 수를 i로 사용하려함. 처음으로 나누려는 수가 2이고 while문 안에서 1씩 증가할 예정\n",
        "\n",
        "while i < sqrt_num:          # i가 주어진 수의 제곱근보다 작은 경우 계속 반복합니다.\n",
        "    if num % i == 0 :        # %기호는 나눈 나머지를 의미합니다. 즉 나누어 떨어졌을 때라는 의미입니다.\n",
        "        div_small.append(i)  # 약수리스트에 추가합니다.\n",
        "    i = i + 1                # 이제 i에 1을 더해줍니다.\n",
        "div_small"
      ],
      "metadata": {
        "id": "290lr1nF2Tn1"
      },
      "execution_count": null,
      "outputs": []
    },
    {
      "cell_type": "markdown",
      "source": [
        "제곱근보다 작은 약수들을 찾았습니다.  \n",
        "이제 제곱근보다 큰 약수들을 담아보도록 하겠습니다.  \n",
        "위의 약수들로 원래 수를 나누면 되겠죠?"
      ],
      "metadata": {
        "id": "n76oAjW_3-PT"
      }
    },
    {
      "cell_type": "code",
      "source": [
        "div_large = []      # 약수 담을 리스트를 만듦니다.\n",
        "for small_divisor in div_small:    # 위에서 구한 약수리스트에서 하나씩 가지고 오면서 반복합니다.\n",
        "    div_large.append(int(num / small_divisor))  # 위에서 구한 약수로 원래수를 나눕니다. int로 변경한 이유는 나눗셈하면 float으로 변환된기 때문입니다.\n",
        "div_large"
      ],
      "metadata": {
        "id": "e2XqspEM38uF"
      },
      "execution_count": null,
      "outputs": []
    },
    {
      "cell_type": "markdown",
      "source": [
        "이제 두 리스트를 합쳐서 divisors 리스트를 만들어 보겠습니다.  \n",
        "리스트의 합은 + 를 사용하면됩니다."
      ],
      "metadata": {
        "id": "GQaR1GgE4sX0"
      }
    },
    {
      "cell_type": "code",
      "source": [
        "divisors = div_small + div_large\n",
        "divisors"
      ],
      "metadata": {
        "id": "z-kdHO6m4azX"
      },
      "execution_count": null,
      "outputs": []
    },
    {
      "cell_type": "markdown",
      "source": [
        "이왕이면 오름차순으로 정렬되면 좋을 것 같습니다. 다음과 같이 진행할 수 있습니다."
      ],
      "metadata": {
        "id": "dgZaZUXD44fm"
      }
    },
    {
      "cell_type": "code",
      "source": [
        "divisors.sort()\n",
        "divisors"
      ],
      "metadata": {
        "id": "GOgtPN0q43N2"
      },
      "execution_count": null,
      "outputs": []
    },
    {
      "cell_type": "markdown",
      "source": [
        "#2. 소인수찾기\n",
        "divisors에서 소수가 아닌 것을 제거해보겠습니다.  \n",
        "먼저 소수가 아닌 것을 찾아보겠습니다.  \n",
        "이를 non_prime 리스트를 만들어 담아 보도록 하겠습니다.  \n",
        "이미 divisors에 들어 있는 수는 a의 제곱근보다 작은 모든 수로 나누어본 것이기 때문에  \n",
        "이 안에서 약수가 존재하지 않는다면 소수입니다."
      ],
      "metadata": {
        "id": "ILevvDO15P3K"
      }
    },
    {
      "cell_type": "code",
      "source": [
        "non_prime = []      # 소수가 아닌 약수를 담을 리스트를 만듦니다.\n",
        "for divisor in divisors:       # 약수 리스트에서 약수를 하나씩 가져와 아래를 반복합니다.\n",
        "    for div in divisors:       # 다시 한번 약수를 차례대로 가지고 와서 divisor를 div가 나누는지 확인합니다.\n",
        "        if div < divisor and divisor % div ==0:\n",
        "            non_prime.append(divisor)\n",
        "            break\n",
        "non_prime"
      ],
      "metadata": {
        "id": "gLwZes2u5PWG"
      },
      "execution_count": null,
      "outputs": []
    },
    {
      "cell_type": "markdown",
      "source": [
        "이제 약수리스트에서 소수가 아닌 약수를 제거해보겠습니다.  \n",
        "for문을 활용할 수 있습니다  \n",
        "다음과 같이 for문을 깔끔하게 작성하는 것도 가능합니다.  "
      ],
      "metadata": {
        "id": "3KTbtzbR6_1t"
      }
    },
    {
      "cell_type": "code",
      "source": [
        "prime_divisors = [x for x in divisors if x not in non_prime]\n",
        "prime_divisors"
      ],
      "metadata": {
        "id": "h40SIJ5O5CU4"
      },
      "execution_count": null,
      "outputs": []
    },
    {
      "cell_type": "markdown",
      "source": [
        "소인수가 위와 같이 찾아졌음을 확인할 수 있습니다.  \n",
        "# 3.지수 찾기\n",
        "이제 각 소인수의 지수를 찾아야 겠습니다.  \n",
        "이 자료를 담기 위해 dictionary를 배워보도록 하겠습니다.\n",
        "#Dictionary\n",
        "사전식으로 자료를 저장할수도 있습니다. 이때 딕셔너리를 이용합니다.  \n",
        "밑과 지수를 구분하기 위해 딕셔너리에 담도록 하겠습니다. 즉 2의 2제곱, 3의 4제곱, 7의 10제곱이라면 다음과 같은 딕셔너리로 담을 것입니다.\n",
        "\n",
        "```python\n",
        "{2 : 2, 3 : 4, 7 : 10}\n",
        "```\n",
        "\n",
        "딕셔너리는 리스트와 달리 {} 를 사용하는 것을 유의 하셔야 합니다.  \n",
        "한영사전 dictionary를 만든다고 생각해보죠.  \n"
      ],
      "metadata": {
        "id": "RYcstrde7enY"
      }
    },
    {
      "cell_type": "code",
      "source": [
        "kor_to_eng = {}   # 빈 딕셔너리를 만듭니다.\n",
        "kor_to_eng['사과'] = 'apple'  # 사과 : apple 라고 사전에 등록합니다.\n",
        "kor_to_eng['바나나'] = 'banana' \n",
        "kor_to_eng"
      ],
      "metadata": {
        "id": "GdhqcAfm7dmj"
      },
      "execution_count": null,
      "outputs": []
    },
    {
      "cell_type": "markdown",
      "source": [
        "사과, 바나나 와 같은 값이 key 값이고 apple, banana가 value 값입니다.  \n",
        "다음과 같이 key를 넣어 value를 찾을 수 있습니다."
      ],
      "metadata": {
        "id": "X2upc4eE8kuR"
      }
    },
    {
      "cell_type": "code",
      "source": [
        "kor_to_eng['사과']"
      ],
      "metadata": {
        "id": "S_uVRB298ha7"
      },
      "execution_count": null,
      "outputs": []
    },
    {
      "cell_type": "markdown",
      "source": [
        "딕셔너리에 대한 자세한 내용은 조금 더 검색해 보시길 추천드립니다.  \n",
        "다시 문제로 돌아가서 지수를 찾아보도록 하겠습니다.  \n",
        "지수는 소인수로 반복해서 나눠서 나눠질 떄마다 카운트를 해주면 되겠습니다."
      ],
      "metadata": {
        "id": "6uoXqgG_8zPl"
      }
    },
    {
      "cell_type": "code",
      "source": [
        "prime_fac = {}      # 빈 딕셔터리를 만듦니다.\n",
        "num2 = num          # 아래 과정의 나눗셈에서 원래수가 변하지 않게 하기 위해 원래수와 같은 num2를 설정합니다.\n",
        "for prime_divisor in prime_divisors:  # 소인수를 하나씩 가져와 아래를 반복합니다.\n",
        "    k = 0                             # 소인수가 원래수를 나눌 때마다 1씩 늘려 지수를 카운팅합니다.\n",
        "    while num2 % prime_divisor == 0:   # 원래 수를 나누는지 확인하는데, 아래에서 나눠질 때 마다 수를 약분합니다.\n",
        "        num2 = num2 / prime_divisor \n",
        "        k += 1                   \n",
        "    prime_fac[prime_divisor] = k      # 딕셔너리에 담습니다.\n",
        "prime_fac"
      ],
      "metadata": {
        "id": "f1NKiefd8wlj"
      },
      "execution_count": null,
      "outputs": []
    },
    {
      "cell_type": "markdown",
      "source": [
        "이 결과를 말로 표현해보겠습니다.  \n",
        "파이썬에서는 문자열을 포매팅하는 여러 방법이 존재합니다.  \n",
        "다음과 같이 사용하면 문자열에 변수값을 사용할 수 있습니다.\n",
        "\n",
        "\n",
        "```\n",
        "f'문자사이에 변수를 넣고 싶다면 {넣고싶은변수}와 같이 입력합니다.'\n",
        "```\n",
        "\n",
        "또한 딕셔너리의 key와 value를 모두 함께 for문에서 가지고 오고 싶을 떄는  \n",
        "items() 를 아래와 같이 사용합니다."
      ],
      "metadata": {
        "id": "LSlTtEJg-X9A"
      }
    },
    {
      "cell_type": "code",
      "source": [
        "msg = f\"{num}의 소인수 분해 결과는 다음과 같습니다. \"\n",
        "for prime, exponent in prime_fac.items():\n",
        "    msg += f'{prime}의 {exponent}제곱 '\n",
        "msg"
      ],
      "metadata": {
        "id": "7nQ35HUC9gux"
      },
      "execution_count": null,
      "outputs": []
    }
  ]
}