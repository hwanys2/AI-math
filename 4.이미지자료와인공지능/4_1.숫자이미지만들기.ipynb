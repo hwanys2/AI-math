{
  "nbformat": 4,
  "nbformat_minor": 0,
  "metadata": {
    "colab": {
      "name": "4_1.숫자이미지만들기.ipynb",
      "private_outputs": true,
      "provenance": [],
      "authorship_tag": "ABX9TyOrLiZ9jUvdMfd5UqGbpDUX",
      "include_colab_link": true
    },
    "kernelspec": {
      "name": "python3",
      "display_name": "Python 3"
    },
    "language_info": {
      "name": "python"
    }
  },
  "cells": [
    {
      "cell_type": "markdown",
      "metadata": {
        "id": "view-in-github",
        "colab_type": "text"
      },
      "source": [
        "<a href=\"https://colab.research.google.com/github/hwanys2/AI-math/blob/main/4.%EC%9D%B4%EB%AF%B8%EC%A7%80%EC%9E%90%EB%A3%8C%EC%99%80%EC%9D%B8%EA%B3%B5%EC%A7%80%EB%8A%A5/4_1.%EC%88%AB%EC%9E%90%EC%9D%B4%EB%AF%B8%EC%A7%80%EB%A7%8C%EB%93%A4%EA%B8%B0.ipynb\" target=\"_parent\"><img src=\"https://colab.research.google.com/assets/colab-badge.svg\" alt=\"Open In Colab\"/></a>"
      ]
    },
    {
      "cell_type": "markdown",
      "source": [
        "# 컴퓨터의 이미지 인식 방법\n",
        "\n",
        "- 0과 1을 통한 흑백 처리\n",
        "    \n",
        "    ![스크린샷 2021-09-02 오후 10.35.42.png](https://proximal-stranger-fa0.notion.site/image/https%3A%2F%2Fs3-us-west-2.amazonaws.com%2Fsecure.notion-static.com%2F34b450a1-a7c3-4b49-9a65-679611fc98b1%2F스크린샷_2021-09-02_오후_10.35.42.png?table=block&id=693592fb-672d-4b1d-8c72-4152cfc12348&spaceId=0f859e6e-7f7d-4665-851d-3e7244ab307b&width=1530&userId=&cache=v2)\n",
        "    \n",
        "    이와 같이 0과 1을 각 픽셀의 정보로 주어져 각 필셀당 1비트로 만들 수도 있지만 픽셀당 8비트로 256가지의 밝기 정도를 통해 표현하면 회색도 나타낼 수 있습니다.\n",
        "    \n",
        "- 광원의 세기에 따른 흑백 표현\n",
        "    \n",
        "    ![스크린샷 2021-09-02 오후 10.38.20.png](https://proximal-stranger-fa0.notion.site/image/https%3A%2F%2Fs3-us-west-2.amazonaws.com%2Fsecure.notion-static.com%2F3b029f83-8d6b-4ff6-9db6-bfa0dd313ad8%2F스크린샷_2021-09-02_오후_10.38.20.png?table=block&id=26e9761a-0c30-4605-a2f2-a45e01ca05cd&spaceId=0f859e6e-7f7d-4665-851d-3e7244ab307b&width=910&userId=&cache=v2)\n",
        "    \n",
        "    2의 8제곱, 즉 8비트를 사용하여 256개의 밝기 정도를 표현할 수 있습니다. 255에 가까워질 수록 밝아집니다. \n",
        "    \n",
        "- 컬러 표현\n",
        "    \n",
        "    컬러이미지는 각 픽셀이 빛의 삼원색인 R, G, B의 세 채널로 구성하고 각각의 광원의 세기에 따라 0에서 255까지의 수로 나타냅니다.\n",
        "    \n",
        "    ![스크린샷 2021-09-02 오후 10.41.22.png](https://proximal-stranger-fa0.notion.site/image/https%3A%2F%2Fs3-us-west-2.amazonaws.com%2Fsecure.notion-static.com%2F2b189bb6-cd56-4ca8-bf8f-2e47b5398a13%2F스크린샷_2021-09-02_오후_10.41.22.png?table=block&id=70fc9b6a-9392-4af6-93cb-e9a18c46e31e&spaceId=0f859e6e-7f7d-4665-851d-3e7244ab307b&width=960&userId=&cache=v2)\n",
        "\n",
        "# 숫자 이미지 만들기(흑백)\n",
        "실제 숫자를 입력하여 이미지 파일을 만들어 보겠습니다.  \n",
        "다음과 같이 numpy array를 이용하여 마치 행렬처럼 0과 255를 이용하여 숫자 0을 표현해보겠습니다.  \n",
        "흑백으로 표현하기 위해서 2차원이 필요합니다. 따라서 [  [],[],[],[]  ] 형태의 array를 만드는 것을 확인해야 합니다.  \n",
        "또한 dtype = np.unit8 로 지정해 주어야 합니다.\n"
      ],
      "metadata": {
        "id": "dmkOfUtlDIVA"
      }
    },
    {
      "cell_type": "code",
      "execution_count": null,
      "metadata": {
        "id": "fEVCCX52DAVI"
      },
      "outputs": [],
      "source": [
        "import numpy as np\n",
        "\n",
        "array = np.array([\n",
        "                [0, 255, 255, 255, 0], \n",
        "                [255, 0, 0, 0, 255],\n",
        "                [255, 0, 0, 100, 255], \n",
        "                [255, 0, 100, 0, 255], \n",
        "                [255, 100, 0, 0, 255],\n",
        "                [255, 0, 0, 0, 255],\n",
        "                [0, 255, 255, 255, 0]\n",
        "                ], dtype=np.uint8)\n"
      ]
    },
    {
      "cell_type": "markdown",
      "source": [
        "숫자 0 같아 보이시나요? 회색 대각선이 있는 0의 이미지 입니다.  \n",
        "이를 한 번 matplotlib을 이용하여 출력해보겠습니다."
      ],
      "metadata": {
        "id": "1AqomiymEdN2"
      }
    },
    {
      "cell_type": "code",
      "source": [
        "import matplotlib.pyplot as plt\n",
        "plt.imshow(array, cmap='gray')"
      ],
      "metadata": {
        "id": "sWyG5zsYEcoI"
      },
      "execution_count": null,
      "outputs": []
    },
    {
      "cell_type": "markdown",
      "source": [
        "이번에는 저장해보도록 하겠습니다."
      ],
      "metadata": {
        "id": "blel-YLzFQ3t"
      }
    },
    {
      "cell_type": "code",
      "source": [
        "from PIL import Image\n",
        "im = Image.fromarray(array)\n",
        "im.save(\"0.jpg\")"
      ],
      "metadata": {
        "id": "XaqdlktBEvvZ"
      },
      "execution_count": null,
      "outputs": []
    },
    {
      "cell_type": "markdown",
      "source": [
        "왼쪽에 폴더를 눌러보시면 0.jpg 파일이 생성된 것을 확인하실 수 있습니다.\n",
        "###실습\n",
        "위의 내용을 이용하여 다른 숫자를 만들어 보세요."
      ],
      "metadata": {
        "id": "XC8IlQZAFgq2"
      }
    },
    {
      "cell_type": "code",
      "source": [
        ""
      ],
      "metadata": {
        "id": "xHlAOsFHFYnC"
      },
      "execution_count": null,
      "outputs": []
    },
    {
      "cell_type": "markdown",
      "source": [
        "#숫자 이미지 만들기(컬러)\n",
        "이제 색이 있는 숫자를 만들어 보겠습니다.  \n",
        "컬러로 표현하기 위해서는 rgb값을 제공해야 합니다.  \n",
        "각 점의 위치에 [R, G, B]의 array가 들어가야 합니다.  \n",
        "위에서 한 흑백과 비교하면 흑백에서 각 숫자 하나의 위치에 [255, 100, 0] 와 같은 array가 들어가게 작성해야 합니다.  \n",
        "한 번 해보겠습니다.  \n",
        "바로 출력과 파일 저장을 함께 진해하겠습니다."
      ],
      "metadata": {
        "id": "jPHH0nV4FyJS"
      }
    },
    {
      "cell_type": "code",
      "source": [
        "array = np.array([\n",
        "    [[0, 0, 0], [255, 0, 0],[255, 0, 0],[255, 0, 0],[0, 0, 0]], \n",
        "    [[255, 0, 0], [0, 0, 0],[0, 0, 0],[0, 0, 0],[255, 0, 0]], \n",
        "    [[255, 0, 0], [0, 0, 0],[0, 0, 0],[100, 0, 0],[255, 0, 0]], \n",
        "    [[0, 255, 0], [0, 0, 0],[0, 100, 0],[0, 0, 0],[0, 255, 0]], \n",
        "    [[0, 0, 255], [0, 0, 100],[0, 0, 0],[0, 0, 0],[0, 0, 255]], \n",
        "    [[0, 0, 255], [0, 0, 0],[0, 0, 0],[0, 0, 0],[0, 0, 255]], \n",
        "    [[0, 0, 0], [0, 0, 255],[0, 0, 255],[0, 0, 255],[0, 0, 0]]\n",
        "    ], dtype=np.uint8)\n",
        "# 출력\n",
        "plt.imshow(array, cmap='gray')   \n",
        "# 파일저장\n",
        "im = Image.fromarray(array)\n",
        "im.save(\"0_color.jpg\")"
      ],
      "metadata": {
        "id": "Bf_zv4LMGCrk"
      },
      "execution_count": null,
      "outputs": []
    },
    {
      "cell_type": "markdown",
      "source": [
        "# 실습\n",
        "아래의 코드를 이용하여 컬러숫자를하나 만들어 보세요.\n",
        "\n"
      ],
      "metadata": {
        "id": "iZjaSumUGHPq"
      }
    },
    {
      "cell_type": "code",
      "source": [
        ""
      ],
      "metadata": {
        "id": "Ju3YnyxnGF9M"
      },
      "execution_count": null,
      "outputs": []
    }
  ]
}